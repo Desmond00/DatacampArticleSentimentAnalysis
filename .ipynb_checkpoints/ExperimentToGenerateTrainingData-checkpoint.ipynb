{
 "cells": [
  {
   "cell_type": "markdown",
   "metadata": {},
   "source": [
    "### Managing Dependencies"
   ]
  },
  {
   "cell_type": "code",
   "execution_count": 6,
   "metadata": {
    "colab": {},
    "colab_type": "code",
    "id": "BOwsuGQQY9OL",
    "scrolled": true
   },
   "outputs": [],
   "source": [
    "from tensorflow.keras.preprocessing.sequence import pad_sequences\n",
    "from tensorflow.keras.layers import Embedding, LSTM, Dense, Dropout, Bidirectional\n",
    "from tensorflow.keras.preprocessing.text import Tokenizer\n",
    "from tensorflow.keras.models import Sequential\n",
    "from tensorflow.keras.optimizers import Adam\n",
    "import tensorflow.keras.utils as ku \n",
    "from tensorflow.keras import regularizers\n",
    "from sklearn.model_selection import train_test_split\n",
    "from sklearn.utils import shuffle\n",
    "import numpy as np \n",
    "import pandas as pd\n",
    "import pickle\n",
    "import random"
   ]
  },
  {
   "cell_type": "code",
   "execution_count": 167,
   "metadata": {},
   "outputs": [],
   "source": [
    "# Setting up random seed for reproducibility of work\n",
    "random.seed(42)"
   ]
  },
  {
   "cell_type": "markdown",
   "metadata": {},
   "source": [
    "### Loading data from CSV file"
   ]
  },
  {
   "cell_type": "code",
   "execution_count": 10,
   "metadata": {},
   "outputs": [],
   "source": [
    "# Loading and preparing the training data\n",
    "new_train_frame = pd.read_csv('./GoodData/final_data_extended_labeledPhase1 - final_data_extended_labeledPhase2.csv')\n",
    "new_train_frame.drop(new_train_frame[new_train_frame['label'].isna()==True].index, axis=0, inplace=True)"
   ]
  },
  {
   "cell_type": "code",
   "execution_count": null,
   "metadata": {},
   "outputs": [],
   "source": [
    "X_train, X_valid, y_train, y_valid = train_test_split(new_train_frame['comment'], new_train_frame['label'], \\\n",
    "                                                    test_size=0.2, random_state=42)\n",
    "corpus = X_train.tolist()"
   ]
  },
  {
   "cell_type": "markdown",
   "metadata": {},
   "source": [
    "### Creating word predictor for all training set comments"
   ]
  },
  {
   "cell_type": "code",
   "execution_count": 13,
   "metadata": {
    "colab": {},
    "colab_type": "code",
    "id": "PRnDnCW-Z7qv"
   },
   "outputs": [],
   "source": [
    "tokenizer = Tokenizer()\n",
    "\n",
    "tokenizer.fit_on_texts(corpus)\n",
    "total_words = len(tokenizer.word_index) + 1\n",
    "\n",
    "# create input sequences using list of tokens\n",
    "input_sequences = []\n",
    "for line in corpus:\n",
    "    token_list = tokenizer.texts_to_sequences([line])[0]\n",
    "    for i in range(1, len(token_list)):\n",
    "        n_gram_sequence = token_list[:i+1]\n",
    "        input_sequences.append(n_gram_sequence)\n",
    "\n",
    "\n",
    "# pad sequences \n",
    "max_sequence_len = max([len(x) for x in input_sequences])\n",
    "input_sequences = np.array(pad_sequences(input_sequences, maxlen=max_sequence_len, padding='pre'))\n",
    "\n",
    "# create predictors and label\n",
    "predictors, label = input_sequences[:,:-1],input_sequences[:,-1]\n",
    "\n",
    "label = ku.to_categorical(label, num_classes=total_words)"
   ]
  },
  {
   "cell_type": "markdown",
   "metadata": {},
   "source": [
    "### Model architecture for the word prediction task"
   ]
  },
  {
   "cell_type": "code",
   "execution_count": 29,
   "metadata": {
    "colab": {},
    "colab_type": "code",
    "id": "w9vH8Y59ajYL"
   },
   "outputs": [
    {
     "name": "stdout",
     "output_type": "stream",
     "text": [
      "Model: \"sequential_6\"\n",
      "_________________________________________________________________\n",
      "Layer (type)                 Output Shape              Param #   \n",
      "=================================================================\n",
      "embedding_6 (Embedding)      (None, 294, 64)           212992    \n",
      "_________________________________________________________________\n",
      "lstm_6 (LSTM)                (None, 50)                23000     \n",
      "_________________________________________________________________\n",
      "dense_9 (Dense)              (None, 120)               6120      \n",
      "_________________________________________________________________\n",
      "dense_10 (Dense)             (None, 3328)              402688    \n",
      "=================================================================\n",
      "Total params: 644,800\n",
      "Trainable params: 644,800\n",
      "Non-trainable params: 0\n",
      "_________________________________________________________________\n",
      "None\n"
     ]
    }
   ],
   "source": [
    "model = Sequential()\n",
    "model.add(Embedding(total_words, 64, input_length=max_sequence_len-1))\n",
    "model.add(LSTM(50))\n",
    "model.add(Dense(120, activation='relu'))\n",
    "model.add(Dense(total_words, activation='softmax'))\n",
    "model.compile(loss='categorical_crossentropy', optimizer='adam', metrics=['accuracy'])\n",
    "print(model.summary())\n"
   ]
  },
  {
   "cell_type": "code",
   "execution_count": 30,
   "metadata": {
    "colab": {},
    "colab_type": "code",
    "id": "AIg2f1HBxqof",
    "scrolled": true
   },
   "outputs": [
    {
     "name": "stdout",
     "output_type": "stream",
     "text": [
      "Train on 16835 samples\n",
      "Epoch 1/100\n",
      "16835/16835 [==============================] - 16s 972us/sample - loss: 6.9623 - accuracy: 0.0372\n",
      "Epoch 2/100\n",
      "16835/16835 [==============================] - 16s 943us/sample - loss: 6.5131 - accuracy: 0.0434- loss: 6.5137 \n",
      "Epoch 3/100\n",
      "16835/16835 [==============================] - 19s 1ms/sample - loss: 6.1547 - accuracy: 0.0555\n",
      "Epoch 4/100\n",
      "16835/16835 [==============================] - 18s 1ms/sample - loss: 5.8530 - accuracy: 0.0719\n",
      "Epoch 5/100\n",
      "16835/16835 [==============================] - 18s 1ms/sample - loss: 5.5752 - accuracy: 0.0877\n",
      "Epoch 6/100\n",
      "16835/16835 [==============================] - 19s 1ms/sample - loss: 5.3125 - accuracy: 0.1037\n",
      "Epoch 7/100\n",
      "16835/16835 [==============================] - 19s 1ms/sample - loss: 5.0699 - accuracy: 0.1187\n",
      "Epoch 8/100\n",
      "16835/16835 [==============================] - 19s 1ms/sample - loss: 4.8306 - accuracy: 0.1377\n",
      "Epoch 9/100\n",
      "16835/16835 [==============================] - 18s 1ms/sample - loss: 4.5953 - accuracy: 0.1562\n",
      "Epoch 10/100\n",
      "16835/16835 [==============================] - 18s 1ms/sample - loss: 4.3593 - accuracy: 0.1748\n",
      "Epoch 11/100\n",
      "16835/16835 [==============================] - 18s 1ms/sample - loss: 4.1240 - accuracy: 0.1951\n",
      "Epoch 12/100\n",
      "16835/16835 [==============================] - 18s 1ms/sample - loss: 3.8843 - accuracy: 0.2149\n",
      "Epoch 13/100\n",
      "16835/16835 [==============================] - 18s 1ms/sample - loss: 3.6469 - accuracy: 0.2400\n",
      "Epoch 14/100\n",
      "16835/16835 [==============================] - 19s 1ms/sample - loss: 3.4101 - accuracy: 0.2703\n",
      "Epoch 15/100\n",
      "16835/16835 [==============================] - 18s 1ms/sample - loss: 3.1756 - accuracy: 0.3045\n",
      "Epoch 16/100\n",
      "16835/16835 [==============================] - 18s 1ms/sample - loss: 2.9516 - accuracy: 0.3386\n",
      "Epoch 17/100\n",
      "16835/16835 [==============================] - 16s 961us/sample - loss: 2.7319 - accuracy: 0.3821\n",
      "Epoch 18/100\n",
      "16835/16835 [==============================] - 18s 1ms/sample - loss: 2.5333 - accuracy: 0.4223\n",
      "Epoch 19/100\n",
      "16835/16835 [==============================] - 18s 1ms/sample - loss: 2.3456 - accuracy: 0.4591\n",
      "Epoch 20/100\n",
      "16835/16835 [==============================] - 18s 1ms/sample - loss: 2.1716 - accuracy: 0.4908\n",
      "Epoch 21/100\n",
      "16835/16835 [==============================] - 18s 1ms/sample - loss: 2.0188 - accuracy: 0.5227\n",
      "Epoch 22/100\n",
      "16835/16835 [==============================] - 18s 1ms/sample - loss: 1.8793 - accuracy: 0.5505\n",
      "Epoch 23/100\n",
      "16835/16835 [==============================] - 18s 1ms/sample - loss: 1.7511 - accuracy: 0.5766\n",
      "Epoch 24/100\n",
      "16835/16835 [==============================] - 18s 1ms/sample - loss: 1.6247 - accuracy: 0.6065\n",
      "Epoch 25/100\n",
      "16835/16835 [==============================] - 18s 1ms/sample - loss: 1.5176 - accuracy: 0.6279\n",
      "Epoch 26/100\n",
      "16835/16835 [==============================] - 19s 1ms/sample - loss: 1.4209 - accuracy: 0.6514\n",
      "Epoch 27/100\n",
      "16835/16835 [==============================] - 18s 1ms/sample - loss: 1.3248 - accuracy: 0.6712\n",
      "Epoch 28/100\n",
      "16835/16835 [==============================] - 18s 1ms/sample - loss: 1.2403 - accuracy: 0.6964\n",
      "Epoch 29/100\n",
      "16835/16835 [==============================] - 18s 1ms/sample - loss: 1.1573 - accuracy: 0.7104\n",
      "Epoch 30/100\n",
      "16835/16835 [==============================] - 18s 1ms/sample - loss: 1.0819 - accuracy: 0.7308\n",
      "Epoch 31/100\n",
      "16835/16835 [==============================] - 18s 1ms/sample - loss: 1.0169 - accuracy: 0.7449\n",
      "Epoch 32/100\n",
      "16835/16835 [==============================] - 18s 1ms/sample - loss: 0.9474 - accuracy: 0.7613\n",
      "Epoch 33/100\n",
      "16835/16835 [==============================] - 18s 1ms/sample - loss: 0.8916 - accuracy: 0.7771\n",
      "Epoch 34/100\n",
      "16835/16835 [==============================] - 18s 1ms/sample - loss: 0.8299 - accuracy: 0.7922\n",
      "Epoch 35/100\n",
      "16835/16835 [==============================] - 18s 1ms/sample - loss: 0.7762 - accuracy: 0.8055\n",
      "Epoch 36/100\n",
      "16835/16835 [==============================] - 18s 1ms/sample - loss: 0.7263 - accuracy: 0.8173\n",
      "Epoch 37/100\n",
      "16835/16835 [==============================] - 18s 1ms/sample - loss: 0.6800 - accuracy: 0.8293\n",
      "Epoch 38/100\n",
      "16835/16835 [==============================] - 18s 1ms/sample - loss: 0.6327 - accuracy: 0.8425\n",
      "Epoch 39/100\n",
      "16835/16835 [==============================] - 18s 1ms/sample - loss: 0.5997 - accuracy: 0.8522\n",
      "Epoch 40/100\n",
      "16835/16835 [==============================] - 18s 1ms/sample - loss: 0.5605 - accuracy: 0.8581\n",
      "Epoch 41/100\n",
      "16835/16835 [==============================] - 18s 1ms/sample - loss: 0.5248 - accuracy: 0.8667\n",
      "Epoch 42/100\n",
      "16835/16835 [==============================] - 18s 1ms/sample - loss: 0.4932 - accuracy: 0.8768\n",
      "Epoch 43/100\n",
      "16835/16835 [==============================] - 18s 1ms/sample - loss: 0.4612 - accuracy: 0.8836\n",
      "Epoch 44/100\n",
      "16835/16835 [==============================] - 18s 1ms/sample - loss: 0.4351 - accuracy: 0.8922\n",
      "Epoch 45/100\n",
      "16835/16835 [==============================] - 18s 1ms/sample - loss: 0.3943 - accuracy: 0.9032\n",
      "Epoch 46/100\n",
      "16835/16835 [==============================] - 18s 1ms/sample - loss: 0.3807 - accuracy: 0.9072\n",
      "Epoch 47/100\n",
      "16835/16835 [==============================] - 18s 1ms/sample - loss: 0.3772 - accuracy: 0.9045\n",
      "Epoch 48/100\n",
      "16835/16835 [==============================] - 18s 1ms/sample - loss: 0.3371 - accuracy: 0.9180\n",
      "Epoch 49/100\n",
      "16835/16835 [==============================] - 18s 1ms/sample - loss: 0.3151 - accuracy: 0.9226\n",
      "Epoch 50/100\n",
      "16835/16835 [==============================] - 19s 1ms/sample - loss: 0.2964 - accuracy: 0.9275\n",
      "Epoch 51/100\n",
      "16835/16835 [==============================] - 18s 1ms/sample - loss: 0.2853 - accuracy: 0.9305\n",
      "Epoch 52/100\n",
      "16835/16835 [==============================] - 18s 1ms/sample - loss: 0.2786 - accuracy: 0.9293\n",
      "Epoch 53/100\n",
      "16835/16835 [==============================] - 18s 1ms/sample - loss: 0.2721 - accuracy: 0.9313\n",
      "Epoch 54/100\n",
      "16835/16835 [==============================] - 18s 1ms/sample - loss: 0.2497 - accuracy: 0.9371\n",
      "Epoch 55/100\n",
      "16835/16835 [==============================] - 18s 1ms/sample - loss: 0.2438 - accuracy: 0.9382\n",
      "Epoch 56/100\n",
      "16835/16835 [==============================] - 18s 1ms/sample - loss: 0.2190 - accuracy: 0.9461\n",
      "Epoch 57/100\n",
      "16835/16835 [==============================] - 18s 1ms/sample - loss: 0.2096 - accuracy: 0.9475\n",
      "Epoch 58/100\n",
      "16835/16835 [==============================] - 18s 1ms/sample - loss: 0.2074 - accuracy: 0.9490\n",
      "Epoch 59/100\n",
      "16835/16835 [==============================] - 18s 1ms/sample - loss: 0.2058 - accuracy: 0.9482\n",
      "Epoch 60/100\n",
      "16835/16835 [==============================] - 19s 1ms/sample - loss: 0.2177 - accuracy: 0.9443\n",
      "Epoch 61/100\n",
      "16835/16835 [==============================] - 20s 1ms/sample - loss: 0.1943 - accuracy: 0.9502\n",
      "Epoch 62/100\n",
      "16835/16835 [==============================] - 18s 1ms/sample - loss: 0.1753 - accuracy: 0.9566\n",
      "Epoch 63/100\n",
      "16835/16835 [==============================] - 18s 1ms/sample - loss: 0.1634 - accuracy: 0.9603\n",
      "Epoch 64/100\n",
      "16835/16835 [==============================] - 18s 1ms/sample - loss: 0.1627 - accuracy: 0.9591\n",
      "Epoch 65/100\n",
      "16835/16835 [==============================] - 18s 1ms/sample - loss: 0.1784 - accuracy: 0.9540\n",
      "Epoch 66/100\n",
      "16835/16835 [==============================] - 18s 1ms/sample - loss: 0.1922 - accuracy: 0.9486\n",
      "Epoch 67/100\n",
      "16835/16835 [==============================] - 18s 1ms/sample - loss: 0.1672 - accuracy: 0.9576\n",
      "Epoch 68/100\n",
      "16835/16835 [==============================] - 18s 1ms/sample - loss: 0.1540 - accuracy: 0.9609\n",
      "Epoch 69/100\n",
      "16835/16835 [==============================] - 18s 1ms/sample - loss: 0.1450 - accuracy: 0.9626\n",
      "Epoch 70/100\n",
      "16835/16835 [==============================] - 16s 929us/sample - loss: 0.1363 - accuracy: 0.9639\n",
      "Epoch 71/100\n",
      "16835/16835 [==============================] - 17s 1ms/sample - loss: 0.1448 - accuracy: 0.9619\n",
      "Epoch 72/100\n",
      "16835/16835 [==============================] - 18s 1ms/sample - loss: 0.1528 - accuracy: 0.9604\n",
      "Epoch 73/100\n",
      "16835/16835 [==============================] - 18s 1ms/sample - loss: 0.1582 - accuracy: 0.9577\n",
      "Epoch 74/100\n",
      "16835/16835 [==============================] - 18s 1ms/sample - loss: 0.1571 - accuracy: 0.9559\n",
      "Epoch 75/100\n"
     ]
    },
    {
     "name": "stdout",
     "output_type": "stream",
     "text": [
      "16835/16835 [==============================] - 18s 1ms/sample - loss: 0.1422 - accuracy: 0.9610\n",
      "Epoch 76/100\n",
      "16835/16835 [==============================] - 19s 1ms/sample - loss: 0.1436 - accuracy: 0.9618\n",
      "Epoch 77/100\n",
      "16835/16835 [==============================] - 18s 1ms/sample - loss: 0.1296 - accuracy: 0.9639\n",
      "Epoch 78/100\n",
      "16835/16835 [==============================] - 18s 1ms/sample - loss: 0.1127 - accuracy: 0.9691\n",
      "Epoch 79/100\n",
      "16835/16835 [==============================] - 18s 1ms/sample - loss: 0.1145 - accuracy: 0.9689\n",
      "Epoch 80/100\n",
      "16835/16835 [==============================] - 18s 1ms/sample - loss: 0.1317 - accuracy: 0.9636\n",
      "Epoch 81/100\n",
      "16835/16835 [==============================] - 18s 1ms/sample - loss: 0.1590 - accuracy: 0.9541\n",
      "Epoch 82/100\n",
      "16835/16835 [==============================] - 18s 1ms/sample - loss: 0.1588 - accuracy: 0.9543\n",
      "Epoch 83/100\n",
      "16835/16835 [==============================] - 18s 1ms/sample - loss: 0.1228 - accuracy: 0.9651\n",
      "Epoch 84/100\n",
      "16835/16835 [==============================] - 18s 1ms/sample - loss: 0.1064 - accuracy: 0.9700\n",
      "Epoch 85/100\n",
      "16835/16835 [==============================] - 18s 1ms/sample - loss: 0.0998 - accuracy: 0.9711\n",
      "Epoch 86/100\n",
      "16835/16835 [==============================] - 18s 1ms/sample - loss: 0.1023 - accuracy: 0.9698\n",
      "Epoch 87/100\n",
      "16835/16835 [==============================] - 18s 1ms/sample - loss: 0.1329 - accuracy: 0.9612\n",
      "Epoch 88/100\n",
      "16835/16835 [==============================] - 18s 1ms/sample - loss: 0.1979 - accuracy: 0.9430\n",
      "Epoch 89/100\n",
      "16835/16835 [==============================] - 18s 1ms/sample - loss: 0.1340 - accuracy: 0.9606\n",
      "Epoch 90/100\n",
      "16835/16835 [==============================] - 17s 1ms/sample - loss: 0.1027 - accuracy: 0.9693\n",
      "Epoch 91/100\n",
      "16835/16835 [==============================] - 16s 932us/sample - loss: 0.0942 - accuracy: 0.9710\n",
      "Epoch 92/100\n",
      "16835/16835 [==============================] - 18s 1ms/sample - loss: 0.0949 - accuracy: 0.9714\n",
      "Epoch 93/100\n",
      "16835/16835 [==============================] - 18s 1ms/sample - loss: 0.0961 - accuracy: 0.9710\n",
      "Epoch 94/100\n",
      "16835/16835 [==============================] - 18s 1ms/sample - loss: 0.1223 - accuracy: 0.9641\n",
      "Epoch 95/100\n",
      "16835/16835 [==============================] - 18s 1ms/sample - loss: 0.1980 - accuracy: 0.9404\n",
      "Epoch 96/100\n",
      "16835/16835 [==============================] - 18s 1ms/sample - loss: 0.1320 - accuracy: 0.9612\n",
      "Epoch 97/100\n",
      "16835/16835 [==============================] - 18s 1ms/sample - loss: 0.1075 - accuracy: 0.9686\n",
      "Epoch 98/100\n",
      "16835/16835 [==============================] - 18s 1ms/sample - loss: 0.0954 - accuracy: 0.9702\n",
      "Epoch 99/100\n",
      "16835/16835 [==============================] - 18s 1ms/sample - loss: 0.0907 - accuracy: 0.9719\n",
      "Epoch 100/100\n",
      "16835/16835 [==============================] - 18s 1ms/sample - loss: 0.0935 - accuracy: 0.9714\n"
     ]
    }
   ],
   "source": [
    " history = model.fit(predictors, label, epochs=100, verbose=1)"
   ]
  },
  {
   "cell_type": "code",
   "execution_count": 31,
   "metadata": {
    "colab": {},
    "colab_type": "code",
    "id": "1fXTEO3GJ282",
    "scrolled": true
   },
   "outputs": [
    {
     "data": {
      "image/png": "[encoded data removed]",
      "text/plain": [
       "<Figure size 432x288 with 1 Axes>"
      ]
     },
     "metadata": {
      "needs_background": "light"
     },
     "output_type": "display_data"
    },
    {
     "data": {
      "image/png": "[encoded data removed]",
      "text/plain": [
       "<Figure size 432x288 with 1 Axes>"
      ]
     },
     "metadata": {
      "needs_background": "light"
     },
     "output_type": "display_data"
    }
   ],
   "source": [
    "import matplotlib.pyplot as plt\n",
    "acc = history.history['accuracy']\n",
    "loss = history.history['loss']\n",
    "\n",
    "epochs = range(len(acc))\n",
    "\n",
    "plt.plot(epochs, acc, 'b', label='Training accuracy')\n",
    "plt.title('Training accuracy')\n",
    "\n",
    "plt.figure()\n",
    "\n",
    "plt.plot(epochs, loss, 'b', label='Training Loss')\n",
    "plt.title('Training loss')\n",
    "plt.legend()\n",
    "\n",
    "plt.show()"
   ]
  },
  {
   "cell_type": "code",
   "execution_count": 80,
   "metadata": {},
   "outputs": [],
   "source": [
    "model.save('./modelBackup/WordPredictionOnTrainData/model.h5')\n",
    "model.save_weights('./modelBackup/WordPredictionOnTrainData/weights.h5')\n",
    "with open('./modelBackup/WordPredictionOnTrainData/history.pkl', 'wb') as historyFile:\n",
    "    pickle.dump(history.history, historyFile)"
   ]
  },
  {
   "cell_type": "markdown",
   "metadata": {},
   "source": [
    "### Testing with some existing data from training set"
   ]
  },
  {
   "cell_type": "code",
   "execution_count": 170,
   "metadata": {
    "colab": {},
    "colab_type": "code",
    "id": "6Vc6PHgxa6Hm"
   },
   "outputs": [
    {
     "name": "stdout",
     "output_type": "stream",
     "text": [
      "Thank you so much for sharing a ground-level comprehension of the nuts and bolts. watch a mess.  but better can python training and chennai /a you for posting.more info : web design pakistan service and get the best price information to the union. really great like to use you need to mac support phone number mcafee customer service number is 24/7 24/7 printer printer setup updates regarding any queries on installation canon setup canon printer setup canon printer issues related issue. if anyone face printer issue click every video technician or one error code 9999 quickbooks error h101 h202 h303 or h505\n"
     ]
    }
   ],
   "source": [
    "seed_text = \"Thank you\"\n",
    "next_words = 100\n",
    "  \n",
    "for _ in range(next_words):\n",
    "    token_list = tokenizer.texts_to_sequences([seed_text])[0]\n",
    "    token_list = pad_sequences([token_list], maxlen=max_sequence_len-1, padding='pre')\n",
    "    predicted = model.predict_classes(token_list, verbose=0)\n",
    "    output_word = \"\"\n",
    "    for word, index in tokenizer.word_index.items():\n",
    "        if index == predicted:\n",
    "            output_word = word\n",
    "            break\n",
    "    seed_text += \" \" + output_word\n",
    "print(seed_text)"
   ]
  },
  {
   "cell_type": "markdown",
   "metadata": {},
   "source": [
    "### Now making the word prediction specific to Spam Data"
   ]
  },
  {
   "cell_type": "code",
   "execution_count": 82,
   "metadata": {},
   "outputs": [],
   "source": [
    "spamDF = new_train_frame[new_train_frame.label == 1.0]"
   ]
  },
  {
   "cell_type": "code",
   "execution_count": 86,
   "metadata": {},
   "outputs": [],
   "source": [
    "corpus = spamDF['comment'].tolist()"
   ]
  },
  {
   "cell_type": "code",
   "execution_count": 99,
   "metadata": {},
   "outputs": [],
   "source": [
    "tokenizer = Tokenizer(filters='!\"#$%&()*,;<=>?@[\\\\]^_`{|}~\\t\\n')\n",
    "\n",
    "tokenizer.fit_on_texts(corpus)\n",
    "total_words = len(tokenizer.word_index) + 1\n",
    "\n",
    "# create input sequences using list of tokens\n",
    "input_sequences = []\n",
    "for line in corpus:\n",
    "    token_list = tokenizer.texts_to_sequences([line])[0]\n",
    "    for i in range(1, len(token_list)):\n",
    "        n_gram_sequence = token_list[:i+1]\n",
    "        input_sequences.append(n_gram_sequence)\n",
    "\n",
    "\n",
    "# pad sequences \n",
    "max_sequence_len = max([len(x) for x in input_sequences])\n",
    "input_sequences = np.array(pad_sequences(input_sequences, maxlen=max_sequence_len, padding='pre'))\n",
    "\n",
    "# create predictors and label\n",
    "predictors, label = input_sequences[:,:-1],input_sequences[:,-1]\n",
    "\n",
    "label = ku.to_categorical(label, num_classes=total_words)"
   ]
  },
  {
   "cell_type": "code",
   "execution_count": 128,
   "metadata": {},
   "outputs": [
    {
     "name": "stdout",
     "output_type": "stream",
     "text": [
      "Model: \"sequential_9\"\n",
      "_________________________________________________________________\n",
      "Layer (type)                 Output Shape              Param #   \n",
      "=================================================================\n",
      "embedding_9 (Embedding)      (None, 94, 64)            75392     \n",
      "_________________________________________________________________\n",
      "lstm_9 (LSTM)                (None, 50)                23000     \n",
      "_________________________________________________________________\n",
      "dense_15 (Dense)             (None, 120)               6120      \n",
      "_________________________________________________________________\n",
      "dense_16 (Dense)             (None, 1178)              142538    \n",
      "=================================================================\n",
      "Total params: 247,050\n",
      "Trainable params: 247,050\n",
      "Non-trainable params: 0\n",
      "_________________________________________________________________\n",
      "None\n"
     ]
    }
   ],
   "source": [
    "model = Sequential()\n",
    "model.add(Embedding(total_words, 64, input_length=max_sequence_len-1))\n",
    "model.add(LSTM(50))\n",
    "# Added regularization for maintaining versatality in the generated text\n",
    "model.add(Dense(120, activation='relu', kernel_regularizer=regularizers.l2(0.01)))\n",
    "model.add(Dense(total_words, activation='softmax'))\n",
    "model.compile(loss='categorical_crossentropy', optimizer='adam', metrics=['accuracy'])\n",
    "print(model.summary())\n"
   ]
  },
  {
   "cell_type": "code",
   "execution_count": 129,
   "metadata": {
    "scrolled": true
   },
   "outputs": [
    {
     "name": "stdout",
     "output_type": "stream",
     "text": [
      "Train on 3578 samples\n",
      "Epoch 1/100\n",
      "3578/3578 [==============================] - 2s 629us/sample - loss: 6.9464 - accuracy: 0.0268\n",
      "Epoch 2/100\n",
      "3578/3578 [==============================] - 1s 418us/sample - loss: 6.2673 - accuracy: 0.0246\n",
      "Epoch 3/100\n",
      "3578/3578 [==============================] - 1s 417us/sample - loss: 6.0651 - accuracy: 0.0232 - loss: 6.0\n",
      "Epoch 4/100\n",
      "3578/3578 [==============================] - ETA: 0s - loss: 5.9539 - accuracy: 0.02 - 1s 416us/sample - loss: 5.9568 - accuracy: 0.0282\n",
      "Epoch 5/100\n",
      "3578/3578 [==============================] - 1s 419us/sample - loss: 5.8885 - accuracy: 0.0313\n",
      "Epoch 6/100\n",
      "3578/3578 [==============================] - 1s 417us/sample - loss: 5.8417 - accuracy: 0.0402 - loss: 5.870\n",
      "Epoch 7/100\n",
      "3578/3578 [==============================] - 1s 417us/sample - loss: 5.7943 - accuracy: 0.0442\n",
      "Epoch 8/100\n",
      "3578/3578 [==============================] - 1s 419us/sample - loss: 5.7370 - accuracy: 0.0495 - los\n",
      "Epoch 9/100\n",
      "3578/3578 [==============================] - 1s 417us/sample - loss: 5.6668 - accuracy: 0.0584\n",
      "Epoch 10/100\n",
      "3578/3578 [==============================] - 1s 414us/sample - loss: 5.6054 - accuracy: 0.0615\n",
      "Epoch 11/100\n",
      "3578/3578 [==============================] - 1s 418us/sample - loss: 5.5421 - accuracy: 0.0671\n",
      "Epoch 12/100\n",
      "3578/3578 [==============================] - 1s 419us/sample - loss: 5.4820 - accuracy: 0.0688\n",
      "Epoch 13/100\n",
      "3578/3578 [==============================] - 1s 419us/sample - loss: 5.4294 - accuracy: 0.0696\n",
      "Epoch 14/100\n",
      "3578/3578 [==============================] - 1s 418us/sample - loss: 5.3794 - accuracy: 0.0707\n",
      "Epoch 15/100\n",
      "3578/3578 [==============================] - 1s 418us/sample - loss: 5.3313 - accuracy: 0.0735\n",
      "Epoch 16/100\n",
      "3578/3578 [==============================] - 2s 427us/sample - loss: 5.2877 - accuracy: 0.0774\n",
      "Epoch 17/100\n",
      "3578/3578 [==============================] - 2s 423us/sample - loss: 5.2344 - accuracy: 0.0783 - loss: 5.2252 - accuracy\n",
      "Epoch 18/100\n",
      "3578/3578 [==============================] - 1s 419us/sample - loss: 5.1895 - accuracy: 0.0824\n",
      "Epoch 19/100\n",
      "3578/3578 [==============================] - 1s 419us/sample - loss: 5.1444 - accuracy: 0.0847\n",
      "Epoch 20/100\n",
      "3578/3578 [==============================] - 1s 417us/sample - loss: 5.1008 - accuracy: 0.0872\n",
      "Epoch 21/100\n",
      "3578/3578 [==============================] - 2s 421us/sample - loss: 5.0558 - accuracy: 0.0880\n",
      "Epoch 22/100\n",
      "3578/3578 [==============================] - 1s 419us/sample - loss: 5.0115 - accuracy: 0.0942\n",
      "Epoch 23/100\n",
      "3578/3578 [==============================] - 2s 425us/sample - loss: 4.9658 - accuracy: 0.0995\n",
      "Epoch 24/100\n",
      "3578/3578 [==============================] - 2s 431us/sample - loss: 4.9258 - accuracy: 0.1017\n",
      "Epoch 25/100\n",
      "3578/3578 [==============================] - 2s 442us/sample - loss: 4.8814 - accuracy: 0.1042\n",
      "Epoch 26/100\n",
      "3578/3578 [==============================] - 2s 433us/sample - loss: 4.8384 - accuracy: 0.1098\n",
      "Epoch 27/100\n",
      "3578/3578 [==============================] - 2s 435us/sample - loss: 4.7903 - accuracy: 0.1124\n",
      "Epoch 28/100\n",
      "3578/3578 [==============================] - 2s 434us/sample - loss: 4.7485 - accuracy: 0.1171\n",
      "Epoch 29/100\n",
      "3578/3578 [==============================] - 2s 433us/sample - loss: 4.7078 - accuracy: 0.1207\n",
      "Epoch 30/100\n",
      "3578/3578 [==============================] - 2s 437us/sample - loss: 4.6601 - accuracy: 0.1316\n",
      "Epoch 31/100\n",
      "3578/3578 [==============================] - 2s 433us/sample - loss: 4.6185 - accuracy: 0.1328\n",
      "Epoch 32/100\n",
      "3578/3578 [==============================] - 2s 432us/sample - loss: 4.5697 - accuracy: 0.1428\n",
      "Epoch 33/100\n",
      "3578/3578 [==============================] - 2s 431us/sample - loss: 4.5267 - accuracy: 0.1459\n",
      "Epoch 34/100\n",
      "3578/3578 [==============================] - 2s 434us/sample - loss: 4.4880 - accuracy: 0.1518\n",
      "Epoch 35/100\n",
      "3578/3578 [==============================] - 2s 430us/sample - loss: 4.4408 - accuracy: 0.1557\n",
      "Epoch 36/100\n",
      "3578/3578 [==============================] - 2s 432us/sample - loss: 4.3914 - accuracy: 0.1632\n",
      "Epoch 37/100\n",
      "3578/3578 [==============================] - 2s 434us/sample - loss: 4.3488 - accuracy: 0.1696\n",
      "Epoch 38/100\n",
      "3578/3578 [==============================] - 2s 431us/sample - loss: 4.3015 - accuracy: 0.1752\n",
      "Epoch 39/100\n",
      "3578/3578 [==============================] - 2s 440us/sample - loss: 4.2563 - accuracy: 0.1881 - loss: 4.255\n",
      "Epoch 40/100\n",
      "3578/3578 [==============================] - 2s 430us/sample - loss: 4.2083 - accuracy: 0.1926\n",
      "Epoch 41/100\n",
      "3578/3578 [==============================] - 2s 429us/sample - loss: 4.1654 - accuracy: 0.1962\n",
      "Epoch 42/100\n",
      "3578/3578 [==============================] - 2s 434us/sample - loss: 4.1191 - accuracy: 0.2093\n",
      "Epoch 43/100\n",
      "3578/3578 [==============================] - 2s 431us/sample - loss: 4.0713 - accuracy: 0.2119\n",
      "Epoch 44/100\n",
      "3578/3578 [==============================] - 2s 432us/sample - loss: 4.0215 - accuracy: 0.2169\n",
      "Epoch 45/100\n",
      "3578/3578 [==============================] - 2s 434us/sample - loss: 3.9758 - accuracy: 0.2211\n",
      "Epoch 46/100\n",
      "3578/3578 [==============================] - 2s 434us/sample - loss: 3.9278 - accuracy: 0.2364\n",
      "Epoch 47/100\n",
      "3578/3578 [==============================] - 2s 431us/sample - loss: 3.8802 - accuracy: 0.2437\n",
      "Epoch 48/100\n",
      "3578/3578 [==============================] - 2s 435us/sample - loss: 3.8373 - accuracy: 0.2485\n",
      "Epoch 49/100\n",
      "3578/3578 [==============================] - 2s 432us/sample - loss: 3.7933 - accuracy: 0.2513\n",
      "Epoch 50/100\n",
      "3578/3578 [==============================] - 2s 431us/sample - loss: 3.7458 - accuracy: 0.2616\n",
      "Epoch 51/100\n",
      "3578/3578 [==============================] - 2s 432us/sample - loss: 3.6972 - accuracy: 0.2691 - - ETA: 0s - loss: 3.659\n",
      "Epoch 52/100\n",
      "3578/3578 [==============================] - 2s 430us/sample - loss: 3.6544 - accuracy: 0.2661\n",
      "Epoch 53/100\n",
      "3578/3578 [==============================] - 2s 429us/sample - loss: 3.6045 - accuracy: 0.2862\n",
      "Epoch 54/100\n",
      "3578/3578 [==============================] - 2s 431us/sample - loss: 3.5589 - accuracy: 0.2907\n",
      "Epoch 55/100\n",
      "3578/3578 [==============================] - 2s 429us/sample - loss: 3.5104 - accuracy: 0.2946\n",
      "Epoch 56/100\n",
      "3578/3578 [==============================] - 2s 431us/sample - loss: 3.4654 - accuracy: 0.3027\n",
      "Epoch 57/100\n",
      "3578/3578 [==============================] - 2s 433us/sample - loss: 3.4196 - accuracy: 0.3074\n",
      "Epoch 58/100\n",
      "3578/3578 [==============================] - 2s 431us/sample - loss: 3.3737 - accuracy: 0.3236\n",
      "Epoch 59/100\n",
      "3578/3578 [==============================] - 2s 433us/sample - loss: 3.3229 - accuracy: 0.3267\n",
      "Epoch 60/100\n",
      "3578/3578 [==============================] - 2s 431us/sample - loss: 3.2741 - accuracy: 0.3373\n",
      "Epoch 61/100\n",
      "3578/3578 [==============================] - 2s 429us/sample - loss: 3.2289 - accuracy: 0.3488\n",
      "Epoch 62/100\n",
      "3578/3578 [==============================] - 2s 432us/sample - loss: 3.1902 - accuracy: 0.3482\n",
      "Epoch 63/100\n",
      "3578/3578 [==============================] - 2s 430us/sample - loss: 3.1367 - accuracy: 0.3628\n",
      "Epoch 64/100\n",
      "3578/3578 [==============================] - 2s 429us/sample - loss: 3.0963 - accuracy: 0.3667\n",
      "Epoch 65/100\n",
      "3578/3578 [==============================] - 2s 428us/sample - loss: 3.0464 - accuracy: 0.3804\n",
      "Epoch 66/100\n",
      "3578/3578 [==============================] - 2s 431us/sample - loss: 2.9965 - accuracy: 0.3932\n",
      "Epoch 67/100\n",
      "3578/3578 [==============================] - 2s 430us/sample - loss: 2.9573 - accuracy: 0.4022\n",
      "Epoch 68/100\n",
      "3578/3578 [==============================] - 2s 431us/sample - loss: 2.9087 - accuracy: 0.4100\n",
      "Epoch 69/100\n",
      "3578/3578 [==============================] - 2s 431us/sample - loss: 2.8554 - accuracy: 0.4229\n",
      "Epoch 70/100\n",
      "3578/3578 [==============================] - 2s 430us/sample - loss: 2.8167 - accuracy: 0.4310\n",
      "Epoch 71/100\n",
      "3578/3578 [==============================] - 2s 429us/sample - loss: 2.7693 - accuracy: 0.4466\n",
      "Epoch 72/100\n",
      "3578/3578 [==============================] - 2s 431us/sample - loss: 2.7246 - accuracy: 0.4586\n",
      "Epoch 73/100\n",
      "3578/3578 [==============================] - 2s 431us/sample - loss: 2.6791 - accuracy: 0.4754\n",
      "Epoch 74/100\n",
      "3578/3578 [==============================] - 2s 431us/sample - loss: 2.6380 - accuracy: 0.4863\n",
      "Epoch 75/100\n"
     ]
    },
    {
     "name": "stdout",
     "output_type": "stream",
     "text": [
      "3578/3578 [==============================] - 2s 429us/sample - loss: 2.5966 - accuracy: 0.4986\n",
      "Epoch 76/100\n",
      "3578/3578 [==============================] - 2s 425us/sample - loss: 2.5577 - accuracy: 0.5101\n",
      "Epoch 77/100\n",
      "3578/3578 [==============================] - 2s 428us/sample - loss: 2.5157 - accuracy: 0.5210\n",
      "Epoch 78/100\n",
      "3578/3578 [==============================] - 2s 424us/sample - loss: 2.4793 - accuracy: 0.5279\n",
      "Epoch 79/100\n",
      "3578/3578 [==============================] - 2s 430us/sample - loss: 2.4348 - accuracy: 0.5632\n",
      "Epoch 80/100\n",
      "3578/3578 [==============================] - 2s 425us/sample - loss: 2.4004 - accuracy: 0.5674\n",
      "Epoch 81/100\n",
      "3578/3578 [==============================] - 2s 429us/sample - loss: 2.3627 - accuracy: 0.5657\n",
      "Epoch 82/100\n",
      "3578/3578 [==============================] - 2s 447us/sample - loss: 2.3181 - accuracy: 0.5900\n",
      "Epoch 83/100\n",
      "3578/3578 [==============================] - 2s 434us/sample - loss: 2.2852 - accuracy: 0.5975\n",
      "Epoch 84/100\n",
      "3578/3578 [==============================] - 2s 433us/sample - loss: 2.2542 - accuracy: 0.6121\n",
      "Epoch 85/100\n",
      "3578/3578 [==============================] - 2s 434us/sample - loss: 2.2211 - accuracy: 0.6098\n",
      "Epoch 86/100\n",
      "3578/3578 [==============================] - 2s 432us/sample - loss: 2.1828 - accuracy: 0.6311\n",
      "Epoch 87/100\n",
      "3578/3578 [==============================] - 2s 428us/sample - loss: 2.1503 - accuracy: 0.6397\n",
      "Epoch 88/100\n",
      "3578/3578 [==============================] - 2s 429us/sample - loss: 2.1192 - accuracy: 0.6470\n",
      "Epoch 89/100\n",
      "3578/3578 [==============================] - 2s 429us/sample - loss: 2.0924 - accuracy: 0.6532\n",
      "Epoch 90/100\n",
      "3578/3578 [==============================] - 2s 429us/sample - loss: 2.0541 - accuracy: 0.6613 - loss: 2.0463 - \n",
      "Epoch 91/100\n",
      "3578/3578 [==============================] - 2s 430us/sample - loss: 2.0274 - accuracy: 0.6660\n",
      "Epoch 92/100\n",
      "3578/3578 [==============================] - 2s 430us/sample - loss: 1.9972 - accuracy: 0.6792\n",
      "Epoch 93/100\n",
      "3578/3578 [==============================] - 2s 430us/sample - loss: 1.9704 - accuracy: 0.6836\n",
      "Epoch 94/100\n",
      "3578/3578 [==============================] - 2s 430us/sample - loss: 1.9348 - accuracy: 0.6926\n",
      "Epoch 95/100\n",
      "3578/3578 [==============================] - 2s 432us/sample - loss: 1.9043 - accuracy: 0.7113\n",
      "Epoch 96/100\n",
      "3578/3578 [==============================] - 2s 429us/sample - loss: 1.8809 - accuracy: 0.7113\n",
      "Epoch 97/100\n",
      "3578/3578 [==============================] - 2s 430us/sample - loss: 1.8532 - accuracy: 0.7116\n",
      "Epoch 98/100\n",
      "3578/3578 [==============================] - 2s 429us/sample - loss: 1.8224 - accuracy: 0.7267\n",
      "Epoch 99/100\n",
      "3578/3578 [==============================] - 2s 430us/sample - loss: 1.7965 - accuracy: 0.7297\n",
      "Epoch 100/100\n",
      "3578/3578 [==============================] - 2s 431us/sample - loss: 1.7845 - accuracy: 0.7309 - loss: 1.7441 - ac\n"
     ]
    }
   ],
   "source": [
    " history = model.fit(predictors, label, epochs=100, verbose=1)"
   ]
  },
  {
   "cell_type": "code",
   "execution_count": 102,
   "metadata": {},
   "outputs": [],
   "source": [
    "model.save('./modelBackup/WordPredictionOnTrainSpamData/model.h5')\n",
    "model.save_weights('./modelBackup/WordPredictionOnTrainSpamData/weights.h5')\n",
    "with open('./modelBackup/WordPredictionOnTrainSpamData/history.pkl', 'wb') as historyFile:\n",
    "    pickle.dump(history.history, historyFile)"
   ]
  },
  {
   "cell_type": "markdown",
   "metadata": {},
   "source": [
    "### Custom helper function to generate sentences using the trained model by selecting minWords from randomly selected existing sentences"
   ]
  },
  {
   "cell_type": "code",
   "execution_count": 130,
   "metadata": {},
   "outputs": [],
   "source": [
    "def generateSentences(noOfSentences, existingSentences, minWords=2):\n",
    "    generatedSentences = []\n",
    "    for sentenceIterator in range(noOfSentences):\n",
    "        randomSentence = random.choice(existingSentences)\n",
    "        sentenceWordCount = len(randomSentence.split(' '))\n",
    "        partialSentence = ' '.join(randomSentence.split(' ')[0: minWords if sentenceWordCount > minWords else sentenceWordCount])\n",
    "        seed_text = partialSentence\n",
    "        next_words = sentenceWordCount - 2\n",
    "\n",
    "        for _ in range(next_words):\n",
    "            token_list = tokenizer.texts_to_sequences([seed_text])[0]\n",
    "            token_list = pad_sequences([token_list], maxlen=max_sequence_len-1, padding='pre')\n",
    "            predicted = model.predict_classes(token_list, verbose=0)\n",
    "            output_word = \"\"\n",
    "            for word, index in tokenizer.word_index.items():\n",
    "                if index == predicted:\n",
    "                    output_word = word\n",
    "                    break\n",
    "            seed_text += \" \" + output_word\n",
    "        generatedSentences.append(seed_text)\n",
    "    return generatedSentences"
   ]
  },
  {
   "cell_type": "code",
   "execution_count": 150,
   "metadata": {},
   "outputs": [],
   "source": [
    "generatedSentences = generateSentences(200, corpus)"
   ]
  },
  {
   "cell_type": "markdown",
   "metadata": {},
   "source": [
    "### Adding the generated data to existing data for our final classification task"
   ]
  },
  {
   "cell_type": "code",
   "execution_count": 144,
   "metadata": {},
   "outputs": [],
   "source": [
    "new_train_frame.drop('articleName', axis=1, inplace=True)"
   ]
  },
  {
   "cell_type": "code",
   "execution_count": 157,
   "metadata": {},
   "outputs": [],
   "source": [
    "generatedSpamData = list(zip(generatedSentences, [1.0]*len(generatedSentences)))\n",
    "generatedFrame = pd.DataFrame(generatedSpamData, columns=['comment', 'label'])"
   ]
  },
  {
   "cell_type": "code",
   "execution_count": 163,
   "metadata": {
    "scrolled": true
   },
   "outputs": [],
   "source": [
    "generated_frame = shuffle(new_train_frame.append(generatedFrame))"
   ]
  },
  {
   "cell_type": "code",
   "execution_count": 171,
   "metadata": {},
   "outputs": [],
   "source": [
    "generated_frame.to_csv('./OriginalPlusGeneratedData.csv')"
   ]
  }
 ],
 "metadata": {
  "accelerator": "GPU",
  "colab": {
   "name": "NLP-Week4-Exercise-Shakespeare-Question.ipynb",
   "provenance": [],
   "version": "0.3.2"
  },
  "kernelspec": {
   "display_name": "Python 3",
   "language": "python",
   "name": "python3"
  },
  "language_info": {
   "codemirror_mode": {
    "name": "ipython",
    "version": 3
   },
   "file_extension": ".py",
   "mimetype": "text/x-python",
   "name": "python",
   "nbconvert_exporter": "python",
   "pygments_lexer": "ipython3",
   "version": "3.7.4"
  }
 },
 "nbformat": 4,
 "nbformat_minor": 1
}
