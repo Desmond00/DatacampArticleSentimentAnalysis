{
 "cells": [
  {
   "cell_type": "code",
   "execution_count": 28,
   "metadata": {},
   "outputs": [],
   "source": [
    "import pandas as pd\n",
    "import numpy as np\n",
    "import glob\n",
    "import matplotlib.pyplot as plt\n",
    "%matplotlib inline"
   ]
  },
  {
   "cell_type": "code",
   "execution_count": 2,
   "metadata": {},
   "outputs": [
    {
     "name": "stdout",
     "output_type": "stream",
     "text": [
      "articleData.csv  DatacampArticleScraping  README.md\n",
      "commentsData\t Data_prep.ipynb\n"
     ]
    }
   ],
   "source": [
    "!ls"
   ]
  },
  {
   "cell_type": "code",
   "execution_count": 3,
   "metadata": {},
   "outputs": [
    {
     "data": {
      "text/html": [
       "<div>\n",
       "<style scoped>\n",
       "    .dataframe tbody tr th:only-of-type {\n",
       "        vertical-align: middle;\n",
       "    }\n",
       "\n",
       "    .dataframe tbody tr th {\n",
       "        vertical-align: top;\n",
       "    }\n",
       "\n",
       "    .dataframe thead th {\n",
       "        text-align: right;\n",
       "    }\n",
       "</style>\n",
       "<table border=\"1\" class=\"dataframe\">\n",
       "  <thead>\n",
       "    <tr style=\"text-align: right;\">\n",
       "      <th></th>\n",
       "      <th>Article Name</th>\n",
       "      <th>Article URL extension</th>\n",
       "      <th>Author</th>\n",
       "      <th>Article Description</th>\n",
       "      <th>upvotes</th>\n",
       "    </tr>\n",
       "  </thead>\n",
       "  <tbody>\n",
       "    <tr>\n",
       "      <th>265</th>\n",
       "      <td>Basic Programming Skills in R</td>\n",
       "      <td>/community/tutorials/basic-programming-skills-r</td>\n",
       "      <td>Ryan Sheehy</td>\n",
       "      <td>Practice basic programming skills in R by usin...</td>\n",
       "      <td>7</td>\n",
       "    </tr>\n",
       "    <tr>\n",
       "      <th>741</th>\n",
       "      <td>Exploratory Data Analysis of Craft Beers: Data...</td>\n",
       "      <td>/community/tutorials/python-data-profiling</td>\n",
       "      <td>Jean-Nicholas Hould</td>\n",
       "      <td>In this tutorial, you'll learn about explorato...</td>\n",
       "      <td>25</td>\n",
       "    </tr>\n",
       "    <tr>\n",
       "      <th>300</th>\n",
       "      <td>Demystifying Mathematical Concepts for Deep Le...</td>\n",
       "      <td>/community/tutorials/demystifying-mathematics-...</td>\n",
       "      <td>Avinash Navlani</td>\n",
       "      <td>Explore basic math concepts for data science a...</td>\n",
       "      <td>7</td>\n",
       "    </tr>\n",
       "    <tr>\n",
       "      <th>187</th>\n",
       "      <td>How to Make a Histogram with ggplot2</td>\n",
       "      <td>/community/tutorials/make-histogram-ggplot2</td>\n",
       "      <td>Karlijn Willems</td>\n",
       "      <td>Learn how to make a histogram with ggplot2 in ...</td>\n",
       "      <td>15</td>\n",
       "    </tr>\n",
       "    <tr>\n",
       "      <th>538</th>\n",
       "      <td>Introduction to Python Metaclasses</td>\n",
       "      <td>/community/tutorials/python-metaclasses</td>\n",
       "      <td>Derrick Mwiti</td>\n",
       "      <td>In this tutorial, learn what metaclasses are, ...</td>\n",
       "      <td>17</td>\n",
       "    </tr>\n",
       "  </tbody>\n",
       "</table>\n",
       "</div>"
      ],
      "text/plain": [
       "                                          Article Name  \\\n",
       "265                      Basic Programming Skills in R   \n",
       "741  Exploratory Data Analysis of Craft Beers: Data...   \n",
       "300  Demystifying Mathematical Concepts for Deep Le...   \n",
       "187               How to Make a Histogram with ggplot2   \n",
       "538                 Introduction to Python Metaclasses   \n",
       "\n",
       "                                 Article URL extension               Author  \\\n",
       "265    /community/tutorials/basic-programming-skills-r          Ryan Sheehy   \n",
       "741         /community/tutorials/python-data-profiling  Jean-Nicholas Hould   \n",
       "300  /community/tutorials/demystifying-mathematics-...      Avinash Navlani   \n",
       "187        /community/tutorials/make-histogram-ggplot2      Karlijn Willems   \n",
       "538            /community/tutorials/python-metaclasses        Derrick Mwiti   \n",
       "\n",
       "                                   Article Description  upvotes  \n",
       "265  Practice basic programming skills in R by usin...        7  \n",
       "741  In this tutorial, you'll learn about explorato...       25  \n",
       "300  Explore basic math concepts for data science a...        7  \n",
       "187  Learn how to make a histogram with ggplot2 in ...       15  \n",
       "538  In this tutorial, learn what metaclasses are, ...       17  "
      ]
     },
     "execution_count": 3,
     "metadata": {},
     "output_type": "execute_result"
    }
   ],
   "source": [
    "# articleData.csv briefs about the articles\n",
    "articles_df = pd.read_csv('GoodData/articleData.csv')\n",
    "articles_df.sample(5)"
   ]
  },
  {
   "cell_type": "code",
   "execution_count": 7,
   "metadata": {},
   "outputs": [
    {
     "data": {
      "text/plain": [
       "(776, 5)"
      ]
     },
     "execution_count": 7,
     "metadata": {},
     "output_type": "execute_result"
    }
   ],
   "source": [
    "# Shape\n",
    "articles_df.shape"
   ]
  },
  {
   "cell_type": "code",
   "execution_count": 4,
   "metadata": {},
   "outputs": [
    {
     "data": {
      "text/html": [
       "<div>\n",
       "<style scoped>\n",
       "    .dataframe tbody tr th:only-of-type {\n",
       "        vertical-align: middle;\n",
       "    }\n",
       "\n",
       "    .dataframe tbody tr th {\n",
       "        vertical-align: top;\n",
       "    }\n",
       "\n",
       "    .dataframe thead th {\n",
       "        text-align: right;\n",
       "    }\n",
       "</style>\n",
       "<table border=\"1\" class=\"dataframe\">\n",
       "  <thead>\n",
       "    <tr style=\"text-align: right;\">\n",
       "      <th></th>\n",
       "      <th>Article Name</th>\n",
       "      <th>Article URL extension</th>\n",
       "      <th>Author</th>\n",
       "      <th>Article Description</th>\n",
       "      <th>upvotes</th>\n",
       "    </tr>\n",
       "  </thead>\n",
       "  <tbody>\n",
       "    <tr>\n",
       "      <th>62</th>\n",
       "      <td>Python For Finance: Algorithmic Trading</td>\n",
       "      <td>/community/tutorials/finance-python-trading</td>\n",
       "      <td>Karlijn Willems</td>\n",
       "      <td>This Python for Finance tutorial introduces yo...</td>\n",
       "      <td>441</td>\n",
       "    </tr>\n",
       "    <tr>\n",
       "      <th>212</th>\n",
       "      <td>Python For Finance: Algorithmic Trading</td>\n",
       "      <td>/community/tutorials/finance-python-trading</td>\n",
       "      <td>Karlijn Willems</td>\n",
       "      <td>This Python for Finance tutorial introduces yo...</td>\n",
       "      <td>441</td>\n",
       "    </tr>\n",
       "    <tr>\n",
       "      <th>362</th>\n",
       "      <td>Python For Finance: Algorithmic Trading</td>\n",
       "      <td>/community/tutorials/finance-python-trading</td>\n",
       "      <td>Karlijn Willems</td>\n",
       "      <td>This Python for Finance tutorial introduces yo...</td>\n",
       "      <td>441</td>\n",
       "    </tr>\n",
       "    <tr>\n",
       "      <th>512</th>\n",
       "      <td>Python For Finance: Algorithmic Trading</td>\n",
       "      <td>/community/tutorials/finance-python-trading</td>\n",
       "      <td>Karlijn Willems</td>\n",
       "      <td>This Python for Finance tutorial introduces yo...</td>\n",
       "      <td>441</td>\n",
       "    </tr>\n",
       "  </tbody>\n",
       "</table>\n",
       "</div>"
      ],
      "text/plain": [
       "                                Article Name  \\\n",
       "62   Python For Finance: Algorithmic Trading   \n",
       "212  Python For Finance: Algorithmic Trading   \n",
       "362  Python For Finance: Algorithmic Trading   \n",
       "512  Python For Finance: Algorithmic Trading   \n",
       "\n",
       "                           Article URL extension           Author  \\\n",
       "62   /community/tutorials/finance-python-trading  Karlijn Willems   \n",
       "212  /community/tutorials/finance-python-trading  Karlijn Willems   \n",
       "362  /community/tutorials/finance-python-trading  Karlijn Willems   \n",
       "512  /community/tutorials/finance-python-trading  Karlijn Willems   \n",
       "\n",
       "                                   Article Description  upvotes  \n",
       "62   This Python for Finance tutorial introduces yo...      441  \n",
       "212  This Python for Finance tutorial introduces yo...      441  \n",
       "362  This Python for Finance tutorial introduces yo...      441  \n",
       "512  This Python for Finance tutorial introduces yo...      441  "
      ]
     },
     "execution_count": 4,
     "metadata": {},
     "output_type": "execute_result"
    }
   ],
   "source": [
    "# Which article has the highest number of upvotes?\n",
    "maximum_upvotes = articles_df.upvotes.max()\n",
    "articles_df[articles_df.upvotes==maximum_upvotes]"
   ]
  },
  {
   "cell_type": "code",
   "execution_count": 8,
   "metadata": {},
   "outputs": [
    {
     "data": {
      "text/plain": [
       "(449, 5)"
      ]
     },
     "execution_count": 8,
     "metadata": {},
     "output_type": "execute_result"
    }
   ],
   "source": [
    "# Are there duplicates?\n",
    "articles_df[articles_df.duplicated()].shape"
   ]
  },
  {
   "cell_type": "code",
   "execution_count": 9,
   "metadata": {},
   "outputs": [
    {
     "data": {
      "text/plain": [
       "(327, 5)"
      ]
     },
     "execution_count": 9,
     "metadata": {},
     "output_type": "execute_result"
    }
   ],
   "source": [
    "# Drop the duplicates\n",
    "articles_df.drop_duplicates(inplace=True)\n",
    "articles_df.shape"
   ]
  },
  {
   "cell_type": "code",
   "execution_count": 10,
   "metadata": {},
   "outputs": [
    {
     "data": {
      "text/html": [
       "<div>\n",
       "<style scoped>\n",
       "    .dataframe tbody tr th:only-of-type {\n",
       "        vertical-align: middle;\n",
       "    }\n",
       "\n",
       "    .dataframe tbody tr th {\n",
       "        vertical-align: top;\n",
       "    }\n",
       "\n",
       "    .dataframe thead th {\n",
       "        text-align: right;\n",
       "    }\n",
       "</style>\n",
       "<table border=\"1\" class=\"dataframe\">\n",
       "  <thead>\n",
       "    <tr style=\"text-align: right;\">\n",
       "      <th></th>\n",
       "      <th>Article Name</th>\n",
       "      <th>Article URL extension</th>\n",
       "      <th>Author</th>\n",
       "      <th>Article Description</th>\n",
       "      <th>upvotes</th>\n",
       "    </tr>\n",
       "  </thead>\n",
       "  <tbody>\n",
       "    <tr>\n",
       "      <th>62</th>\n",
       "      <td>Python For Finance: Algorithmic Trading</td>\n",
       "      <td>/community/tutorials/finance-python-trading</td>\n",
       "      <td>Karlijn Willems</td>\n",
       "      <td>This Python for Finance tutorial introduces yo...</td>\n",
       "      <td>441</td>\n",
       "    </tr>\n",
       "  </tbody>\n",
       "</table>\n",
       "</div>"
      ],
      "text/plain": [
       "                               Article Name  \\\n",
       "62  Python For Finance: Algorithmic Trading   \n",
       "\n",
       "                          Article URL extension           Author  \\\n",
       "62  /community/tutorials/finance-python-trading  Karlijn Willems   \n",
       "\n",
       "                                  Article Description  upvotes  \n",
       "62  This Python for Finance tutorial introduces yo...      441  "
      ]
     },
     "execution_count": 10,
     "metadata": {},
     "output_type": "execute_result"
    }
   ],
   "source": [
    "# Run the maximum upvotes query again\n",
    "articles_df[articles_df.upvotes==maximum_upvotes]"
   ]
  },
  {
   "cell_type": "code",
   "execution_count": 11,
   "metadata": {},
   "outputs": [
    {
     "data": {
      "text/html": [
       "<div>\n",
       "<style scoped>\n",
       "    .dataframe tbody tr th:only-of-type {\n",
       "        vertical-align: middle;\n",
       "    }\n",
       "\n",
       "    .dataframe tbody tr th {\n",
       "        vertical-align: top;\n",
       "    }\n",
       "\n",
       "    .dataframe thead th {\n",
       "        text-align: right;\n",
       "    }\n",
       "</style>\n",
       "<table border=\"1\" class=\"dataframe\">\n",
       "  <thead>\n",
       "    <tr style=\"text-align: right;\">\n",
       "      <th></th>\n",
       "      <th>Article Name</th>\n",
       "      <th>Article URL extension</th>\n",
       "      <th>Author</th>\n",
       "      <th>Article Description</th>\n",
       "      <th>upvotes</th>\n",
       "    </tr>\n",
       "  </thead>\n",
       "  <tbody>\n",
       "    <tr>\n",
       "      <th>770</th>\n",
       "      <td>The RDocumentation Poster</td>\n",
       "      <td>/community/tutorials/package-rankings-task-vie...</td>\n",
       "      <td>Karlijn Willems</td>\n",
       "      <td>Rdocumentation.org is the only R documentation...</td>\n",
       "      <td>2</td>\n",
       "    </tr>\n",
       "  </tbody>\n",
       "</table>\n",
       "</div>"
      ],
      "text/plain": [
       "                  Article Name  \\\n",
       "770  The RDocumentation Poster   \n",
       "\n",
       "                                 Article URL extension           Author  \\\n",
       "770  /community/tutorials/package-rankings-task-vie...  Karlijn Willems   \n",
       "\n",
       "                                   Article Description  upvotes  \n",
       "770  Rdocumentation.org is the only R documentation...        2  "
      ]
     },
     "execution_count": 11,
     "metadata": {},
     "output_type": "execute_result"
    }
   ],
   "source": [
    "# Lowest upvote?\n",
    "lowest_upvotes = articles_df.upvotes.min()\n",
    "articles_df[articles_df.upvotes==lowest_upvotes]"
   ]
  },
  {
   "cell_type": "code",
   "execution_count": 13,
   "metadata": {},
   "outputs": [
    {
     "data": {
      "text/plain": [
       "91"
      ]
     },
     "execution_count": 13,
     "metadata": {},
     "output_type": "execute_result"
    }
   ],
   "source": [
    "# How many unique authors contributed?\n",
    "len(articles_df.Author.unique())"
   ]
  },
  {
   "cell_type": "markdown",
   "metadata": {},
   "source": [
    "We now start with the comments posted on the community articles and tutorial from time to time. `commentsData` is our folder of interest. "
   ]
  },
  {
   "cell_type": "code",
   "execution_count": 25,
   "metadata": {},
   "outputs": [
    {
     "name": "stdout",
     "output_type": "stream",
     "text": [
      "325\n"
     ]
    }
   ],
   "source": [
    "# How many articles/tutorials are there in this folder?\n",
    "total_articles = !ls commentsData/\n",
    "print(len(total_articles))"
   ]
  },
  {
   "cell_type": "markdown",
   "metadata": {},
   "source": [
    "So, we have got the comments scrapped for 325 articles/tutorials of DataCamp Community. Consider the following comment and its reply given: \n",
    "\n",
    "![](images/Image1.png)\n"
   ]
  },
  {
   "cell_type": "markdown",
   "metadata": {},
   "source": [
    "During our scrapping process, we captured only the first comments _not the entire conversation chain including the replies_. Let's now load the first article we have in the folder `commentsData` and glare through its comments (if any). "
   ]
  },
  {
   "cell_type": "code",
   "execution_count": 26,
   "metadata": {},
   "outputs": [
    {
     "data": {
      "text/html": [
       "<div>\n",
       "<style scoped>\n",
       "    .dataframe tbody tr th:only-of-type {\n",
       "        vertical-align: middle;\n",
       "    }\n",
       "\n",
       "    .dataframe tbody tr th {\n",
       "        vertical-align: top;\n",
       "    }\n",
       "\n",
       "    .dataframe thead th {\n",
       "        text-align: right;\n",
       "    }\n",
       "</style>\n",
       "<table border=\"1\" class=\"dataframe\">\n",
       "  <thead>\n",
       "    <tr style=\"text-align: right;\">\n",
       "      <th></th>\n",
       "      <th>commentedBy</th>\n",
       "      <th>commentMessage</th>\n",
       "      <th>upvotes</th>\n",
       "      <th>commentDate</th>\n",
       "    </tr>\n",
       "  </thead>\n",
       "  <tbody>\n",
       "    <tr>\n",
       "      <th>0</th>\n",
       "      <td>Jeremiah James</td>\n",
       "      <td>Thank you for this tutorial, very helpful and ...</td>\n",
       "      <td>3</td>\n",
       "      <td>01/04/2019 08:29 PM</td>\n",
       "    </tr>\n",
       "  </tbody>\n",
       "</table>\n",
       "</div>"
      ],
      "text/plain": [
       "      commentedBy                                     commentMessage  upvotes  \\\n",
       "0  Jeremiah James  Thank you for this tutorial, very helpful and ...        3   \n",
       "\n",
       "           commentDate  \n",
       "0  01/04/2019 08:29 PM  "
      ]
     },
     "execution_count": 26,
     "metadata": {},
     "output_type": "execute_result"
    }
   ],
   "source": [
    "comment_sample_1 = pd.read_csv('commentsData/10CommandlineUtilitiesinPostgreSQL.csv')\n",
    "comment_sample_1.head()"
   ]
  },
  {
   "cell_type": "markdown",
   "metadata": {},
   "source": [
    "Note that `10CommandlineUtilitiesinPostgreSQL` is the name of the respective article. We are interested in knwoing if a comment is spam or non-spam which is essentially a **binary classification** problem. To approach the solution, we would first need to get all the comments from all the articles in one place. \n",
    "\n",
    "Binary classification is a _supervised learning_ task but we do not have labels for any of the comments. So, we will have to resort to **manual labelling**. We will label some of the comments manually and then we will proceed. But first, let's get the comments in one place (a pandas DataFrame!)."
   ]
  },
  {
   "cell_type": "code",
   "execution_count": 43,
   "metadata": {},
   "outputs": [
    {
     "name": "stdout",
     "output_type": "stream",
     "text": [
      "Total comments accumulated: 2233 and 57 documents do not have any comments\n"
     ]
    }
   ],
   "source": [
    "path = 'commentsData/'\n",
    "all_files = glob.glob(path + \"*.csv\")\n",
    "\n",
    "temp_list = []\n",
    "count_no_data = 0\n",
    "\n",
    "for filename in all_files:\n",
    "    try:\n",
    "        temp_df = pd.read_csv(filename, index_col=None)\n",
    "        temp_list.append(temp_df)\n",
    "    except:\n",
    "        count_no_data += 1\n",
    "        \n",
    "final_df = pd.concat(temp_list, axis=0, ignore_index=True)\n",
    "print('Total comments accumulated: {} and {} documents do not have any comments'.\n",
    "                          format(len(final_df), count_no_data))"
   ]
  },
  {
   "cell_type": "code",
   "execution_count": 44,
   "metadata": {},
   "outputs": [
    {
     "data": {
      "text/html": [
       "<div>\n",
       "<style scoped>\n",
       "    .dataframe tbody tr th:only-of-type {\n",
       "        vertical-align: middle;\n",
       "    }\n",
       "\n",
       "    .dataframe tbody tr th {\n",
       "        vertical-align: top;\n",
       "    }\n",
       "\n",
       "    .dataframe thead th {\n",
       "        text-align: right;\n",
       "    }\n",
       "</style>\n",
       "<table border=\"1\" class=\"dataframe\">\n",
       "  <thead>\n",
       "    <tr style=\"text-align: right;\">\n",
       "      <th></th>\n",
       "      <th>commentedBy</th>\n",
       "      <th>commentMessage</th>\n",
       "      <th>upvotes</th>\n",
       "      <th>commentDate</th>\n",
       "    </tr>\n",
       "  </thead>\n",
       "  <tbody>\n",
       "    <tr>\n",
       "      <th>114</th>\n",
       "      <td>Abigail Smith</td>\n",
       "      <td>Get solutions for all  Epson   Printer Support...</td>\n",
       "      <td>1</td>\n",
       "      <td>29/05/2019 08:45 PM</td>\n",
       "    </tr>\n",
       "    <tr>\n",
       "      <th>1813</th>\n",
       "      <td>Alex T</td>\n",
       "      <td>Hi, great work, great tut.</td>\n",
       "      <td>2</td>\n",
       "      <td>21/07/2018 01:06 AM</td>\n",
       "    </tr>\n",
       "    <tr>\n",
       "      <th>330</th>\n",
       "      <td>Jeff Hendricks</td>\n",
       "      <td>source .bahsrc should be .bashrc</td>\n",
       "      <td>2</td>\n",
       "      <td>08/03/2018 06:49 AM</td>\n",
       "    </tr>\n",
       "    <tr>\n",
       "      <th>768</th>\n",
       "      <td>John Carrell</td>\n",
       "      <td>Wow! Where was this tutorial 3 years ago when ...</td>\n",
       "      <td>1</td>\n",
       "      <td>14/06/2018 07:50 AM</td>\n",
       "    </tr>\n",
       "    <tr>\n",
       "      <th>1783</th>\n",
       "      <td>Khachatur Karapetyan</td>\n",
       "      <td>You well done!\\nIt's very useful and interesti...</td>\n",
       "      <td>2</td>\n",
       "      <td>08/09/2018 02:36 AM</td>\n",
       "    </tr>\n",
       "    <tr>\n",
       "      <th>1745</th>\n",
       "      <td>Ashu yadav</td>\n",
       "      <td>hello, i am happy to share with you guys see h...</td>\n",
       "      <td>2</td>\n",
       "      <td>31/12/2018 12:59 PM</td>\n",
       "    </tr>\n",
       "    <tr>\n",
       "      <th>887</th>\n",
       "      <td>Akshay Sharma</td>\n",
       "      <td>Thanks for this great article in such a simpl...</td>\n",
       "      <td>2</td>\n",
       "      <td>18/04/2019 04:09 PM</td>\n",
       "    </tr>\n",
       "    <tr>\n",
       "      <th>1932</th>\n",
       "      <td>thomas</td>\n",
       "      <td>In the second bullet point of the first sectio...</td>\n",
       "      <td>1</td>\n",
       "      <td>03/04/2018 02:03 AM</td>\n",
       "    </tr>\n",
       "    <tr>\n",
       "      <th>214</th>\n",
       "      <td>vijayabhaskar96</td>\n",
       "      <td>Please change the colors of the code and it's ...</td>\n",
       "      <td>1</td>\n",
       "      <td>14/06/2018 06:55 PM</td>\n",
       "    </tr>\n",
       "    <tr>\n",
       "      <th>1669</th>\n",
       "      <td>Alister cook</td>\n",
       "      <td>Needed to compose you a very little word to th...</td>\n",
       "      <td>1</td>\n",
       "      <td>04/07/2018 03:07 PM</td>\n",
       "    </tr>\n",
       "  </tbody>\n",
       "</table>\n",
       "</div>"
      ],
      "text/plain": [
       "               commentedBy                                     commentMessage  \\\n",
       "114          Abigail Smith  Get solutions for all  Epson   Printer Support...   \n",
       "1813                Alex T                        Hi, great work, great tut.    \n",
       "330         Jeff Hendricks                   source .bahsrc should be .bashrc   \n",
       "768           John Carrell  Wow! Where was this tutorial 3 years ago when ...   \n",
       "1783  Khachatur Karapetyan  You well done!\\nIt's very useful and interesti...   \n",
       "1745            Ashu yadav  hello, i am happy to share with you guys see h...   \n",
       "887          Akshay Sharma   Thanks for this great article in such a simpl...   \n",
       "1932                thomas  In the second bullet point of the first sectio...   \n",
       "214        vijayabhaskar96  Please change the colors of the code and it's ...   \n",
       "1669          Alister cook  Needed to compose you a very little word to th...   \n",
       "\n",
       "      upvotes          commentDate  \n",
       "114         1  29/05/2019 08:45 PM  \n",
       "1813        2  21/07/2018 01:06 AM  \n",
       "330         2  08/03/2018 06:49 AM  \n",
       "768         1  14/06/2018 07:50 AM  \n",
       "1783        2  08/09/2018 02:36 AM  \n",
       "1745        2  31/12/2018 12:59 PM  \n",
       "887         2  18/04/2019 04:09 PM  \n",
       "1932        1  03/04/2018 02:03 AM  \n",
       "214         1  14/06/2018 06:55 PM  \n",
       "1669        1  04/07/2018 03:07 PM  "
      ]
     },
     "execution_count": 44,
     "metadata": {},
     "output_type": "execute_result"
    }
   ],
   "source": [
    "# Review\n",
    "final_df.sample(10)"
   ]
  },
  {
   "cell_type": "code",
   "execution_count": 45,
   "metadata": {},
   "outputs": [
    {
     "data": {
      "text/html": [
       "<div>\n",
       "<style scoped>\n",
       "    .dataframe tbody tr th:only-of-type {\n",
       "        vertical-align: middle;\n",
       "    }\n",
       "\n",
       "    .dataframe tbody tr th {\n",
       "        vertical-align: top;\n",
       "    }\n",
       "\n",
       "    .dataframe thead th {\n",
       "        text-align: right;\n",
       "    }\n",
       "</style>\n",
       "<table border=\"1\" class=\"dataframe\">\n",
       "  <thead>\n",
       "    <tr style=\"text-align: right;\">\n",
       "      <th></th>\n",
       "      <th>comment</th>\n",
       "    </tr>\n",
       "  </thead>\n",
       "  <tbody>\n",
       "    <tr>\n",
       "      <th>1965</th>\n",
       "      <td>Going short: \"or you sell your stock, expectin...</td>\n",
       "    </tr>\n",
       "    <tr>\n",
       "      <th>2162</th>\n",
       "      <td>The .ix indexer is deprecated  starting in Pa...</td>\n",
       "    </tr>\n",
       "    <tr>\n",
       "      <th>1385</th>\n",
       "      <td>why Do we retrain the model with all layers as...</td>\n",
       "    </tr>\n",
       "    <tr>\n",
       "      <th>991</th>\n",
       "      <td>It seems that since Yhat has been acquired by ...</td>\n",
       "    </tr>\n",
       "    <tr>\n",
       "      <th>1045</th>\n",
       "      <td>How to group samples if I have 930  samples in...</td>\n",
       "    </tr>\n",
       "  </tbody>\n",
       "</table>\n",
       "</div>"
      ],
      "text/plain": [
       "                                                comment\n",
       "1965  Going short: \"or you sell your stock, expectin...\n",
       "2162   The .ix indexer is deprecated  starting in Pa...\n",
       "1385  why Do we retrain the model with all layers as...\n",
       "991   It seems that since Yhat has been acquired by ...\n",
       "1045  How to group samples if I have 930  samples in..."
      ]
     },
     "execution_count": 45,
     "metadata": {},
     "output_type": "execute_result"
    }
   ],
   "source": [
    "# Get the comments only\n",
    "final_comments_df = pd.DataFrame()\n",
    "final_comments_df['comment'] = final_df['commentMessage']\n",
    "final_comments_df.sample(5)"
   ]
  },
  {
   "cell_type": "code",
   "execution_count": 47,
   "metadata": {},
   "outputs": [],
   "source": [
    "# Let's serialize this DataFrame to a .csv file\n",
    "final_comments_df.to_csv('GoodData/final_data.csv', index=False)"
   ]
  },
  {
   "cell_type": "markdown",
   "metadata": {},
   "source": [
    "## Basic EDA"
   ]
  },
  {
   "cell_type": "code",
   "execution_count": 52,
   "metadata": {},
   "outputs": [
    {
     "data": {
      "text/plain": [
       "comment    7\n",
       "dtype: int64"
      ]
     },
     "execution_count": 52,
     "metadata": {},
     "output_type": "execute_result"
    }
   ],
   "source": [
    "# Nulls?\n",
    "final_comments_df.isna().sum()"
   ]
  },
  {
   "cell_type": "code",
   "execution_count": 53,
   "metadata": {},
   "outputs": [
    {
     "data": {
      "text/html": [
       "<div>\n",
       "<style scoped>\n",
       "    .dataframe tbody tr th:only-of-type {\n",
       "        vertical-align: middle;\n",
       "    }\n",
       "\n",
       "    .dataframe tbody tr th {\n",
       "        vertical-align: top;\n",
       "    }\n",
       "\n",
       "    .dataframe thead th {\n",
       "        text-align: right;\n",
       "    }\n",
       "</style>\n",
       "<table border=\"1\" class=\"dataframe\">\n",
       "  <thead>\n",
       "    <tr style=\"text-align: right;\">\n",
       "      <th></th>\n",
       "      <th>comment</th>\n",
       "    </tr>\n",
       "  </thead>\n",
       "  <tbody>\n",
       "    <tr>\n",
       "      <th>91</th>\n",
       "      <td>NaN</td>\n",
       "    </tr>\n",
       "    <tr>\n",
       "      <th>101</th>\n",
       "      <td>NaN</td>\n",
       "    </tr>\n",
       "    <tr>\n",
       "      <th>631</th>\n",
       "      <td>NaN</td>\n",
       "    </tr>\n",
       "    <tr>\n",
       "      <th>939</th>\n",
       "      <td>NaN</td>\n",
       "    </tr>\n",
       "    <tr>\n",
       "      <th>988</th>\n",
       "      <td>NaN</td>\n",
       "    </tr>\n",
       "    <tr>\n",
       "      <th>1531</th>\n",
       "      <td>NaN</td>\n",
       "    </tr>\n",
       "    <tr>\n",
       "      <th>2023</th>\n",
       "      <td>NaN</td>\n",
       "    </tr>\n",
       "  </tbody>\n",
       "</table>\n",
       "</div>"
      ],
      "text/plain": [
       "     comment\n",
       "91       NaN\n",
       "101      NaN\n",
       "631      NaN\n",
       "939      NaN\n",
       "988      NaN\n",
       "1531     NaN\n",
       "2023     NaN"
      ]
     },
     "execution_count": 53,
     "metadata": {},
     "output_type": "execute_result"
    }
   ],
   "source": [
    "# Where?\n",
    "final_comments_df[final_comments_df.comment.isna()]"
   ]
  },
  {
   "cell_type": "code",
   "execution_count": 55,
   "metadata": {},
   "outputs": [
    {
     "name": "stdout",
     "output_type": "stream",
     "text": [
      "Before dropping the nulls shape of the DataFrame: (2233, 1)\n",
      "Before dropping the nulls shape of the DataFrame: (2226, 1)\n"
     ]
    }
   ],
   "source": [
    "# Goodbye\n",
    "print('Before dropping the nulls shape of the DataFrame: {}'.format(final_comments_df.shape))\n",
    "final_comments_df = final_comments_df.dropna().reset_index(drop=True)\n",
    "print('Before dropping the nulls shape of the DataFrame: {}'.format(final_comments_df.shape))"
   ]
  },
  {
   "cell_type": "code",
   "execution_count": 64,
   "metadata": {},
   "outputs": [
    {
     "data": {
      "text/html": [
       "<div>\n",
       "<style scoped>\n",
       "    .dataframe tbody tr th:only-of-type {\n",
       "        vertical-align: middle;\n",
       "    }\n",
       "\n",
       "    .dataframe tbody tr th {\n",
       "        vertical-align: top;\n",
       "    }\n",
       "\n",
       "    .dataframe thead th {\n",
       "        text-align: right;\n",
       "    }\n",
       "</style>\n",
       "<table border=\"1\" class=\"dataframe\">\n",
       "  <thead>\n",
       "    <tr style=\"text-align: right;\">\n",
       "      <th></th>\n",
       "      <th>comment</th>\n",
       "    </tr>\n",
       "  </thead>\n",
       "  <tbody>\n",
       "    <tr>\n",
       "      <th>117</th>\n",
       "      <td></td>\n",
       "    </tr>\n",
       "    <tr>\n",
       "      <th>132</th>\n",
       "      <td>Hi</td>\n",
       "    </tr>\n",
       "    <tr>\n",
       "      <th>140</th>\n",
       "      <td>Hi Sejal,</td>\n",
       "    </tr>\n",
       "    <tr>\n",
       "      <th>143</th>\n",
       "      <td>Hi</td>\n",
       "    </tr>\n",
       "    <tr>\n",
       "      <th>151</th>\n",
       "      <td>Hi Sejal,</td>\n",
       "    </tr>\n",
       "    <tr>\n",
       "      <th>153</th>\n",
       "      <td>Hi Sejal,</td>\n",
       "    </tr>\n",
       "    <tr>\n",
       "      <th>155</th>\n",
       "      <td>Hi Sejal,</td>\n",
       "    </tr>\n",
       "    <tr>\n",
       "      <th>216</th>\n",
       "      <td></td>\n",
       "    </tr>\n",
       "    <tr>\n",
       "      <th>260</th>\n",
       "      <td>Hi,</td>\n",
       "    </tr>\n",
       "    <tr>\n",
       "      <th>291</th>\n",
       "      <td>Hi Thushan,</td>\n",
       "    </tr>\n",
       "    <tr>\n",
       "      <th>320</th>\n",
       "      <td></td>\n",
       "    </tr>\n",
       "    <tr>\n",
       "      <th>329</th>\n",
       "      <td>Hi,</td>\n",
       "    </tr>\n",
       "    <tr>\n",
       "      <th>331</th>\n",
       "      <td>Hi,</td>\n",
       "    </tr>\n",
       "    <tr>\n",
       "      <th>340</th>\n",
       "      <td>Hi,</td>\n",
       "    </tr>\n",
       "    <tr>\n",
       "      <th>349</th>\n",
       "      <td>Hi,</td>\n",
       "    </tr>\n",
       "    <tr>\n",
       "      <th>364</th>\n",
       "      <td>Hello,</td>\n",
       "    </tr>\n",
       "    <tr>\n",
       "      <th>401</th>\n",
       "      <td></td>\n",
       "    </tr>\n",
       "    <tr>\n",
       "      <th>402</th>\n",
       "      <td></td>\n",
       "    </tr>\n",
       "    <tr>\n",
       "      <th>452</th>\n",
       "      <td>Hi,</td>\n",
       "    </tr>\n",
       "    <tr>\n",
       "      <th>458</th>\n",
       "      <td>Hi,</td>\n",
       "    </tr>\n",
       "  </tbody>\n",
       "</table>\n",
       "</div>"
      ],
      "text/plain": [
       "         comment\n",
       "117             \n",
       "132          Hi \n",
       "140    Hi Sejal,\n",
       "143          Hi \n",
       "151    Hi Sejal,\n",
       "153    Hi Sejal,\n",
       "155    Hi Sejal,\n",
       "216             \n",
       "260          Hi,\n",
       "291  Hi Thushan,\n",
       "320             \n",
       "329          Hi,\n",
       "331         Hi, \n",
       "340          Hi,\n",
       "349          Hi,\n",
       "364       Hello,\n",
       "401             \n",
       "402             \n",
       "452          Hi,\n",
       "458         Hi, "
      ]
     },
     "execution_count": 64,
     "metadata": {},
     "output_type": "execute_result"
    }
   ],
   "source": [
    "# Duplicates?\n",
    "final_comments_df[final_comments_df.duplicated()==True].head(20)"
   ]
  },
  {
   "cell_type": "code",
   "execution_count": 66,
   "metadata": {},
   "outputs": [
    {
     "data": {
      "text/plain": [
       "comment    Hi,\n",
       "Name: 329, dtype: object"
      ]
     },
     "execution_count": 66,
     "metadata": {},
     "output_type": "execute_result"
    }
   ],
   "source": [
    "# Yes, but how dire?\n",
    "final_comments_df.loc[329]"
   ]
  },
  {
   "cell_type": "code",
   "execution_count": 67,
   "metadata": {},
   "outputs": [
    {
     "data": {
      "text/plain": [
       "comment    Hi Thushan,\n",
       "Name: 291, dtype: object"
      ]
     },
     "execution_count": 67,
     "metadata": {},
     "output_type": "execute_result"
    }
   ],
   "source": [
    "final_comments_df.loc[291]"
   ]
  },
  {
   "cell_type": "code",
   "execution_count": 68,
   "metadata": {},
   "outputs": [
    {
     "data": {
      "text/html": [
       "<div>\n",
       "<style scoped>\n",
       "    .dataframe tbody tr th:only-of-type {\n",
       "        vertical-align: middle;\n",
       "    }\n",
       "\n",
       "    .dataframe tbody tr th {\n",
       "        vertical-align: top;\n",
       "    }\n",
       "\n",
       "    .dataframe thead th {\n",
       "        text-align: right;\n",
       "    }\n",
       "</style>\n",
       "<table border=\"1\" class=\"dataframe\">\n",
       "  <thead>\n",
       "    <tr style=\"text-align: right;\">\n",
       "      <th></th>\n",
       "      <th>comment</th>\n",
       "    </tr>\n",
       "  </thead>\n",
       "  <tbody>\n",
       "    <tr>\n",
       "      <th>2114</th>\n",
       "      <td>Thank you very much!</td>\n",
       "    </tr>\n",
       "    <tr>\n",
       "      <th>2117</th>\n",
       "      <td>Hi Karlijn,</td>\n",
       "    </tr>\n",
       "    <tr>\n",
       "      <th>2120</th>\n",
       "      <td>Thanks for this tutorial.</td>\n",
       "    </tr>\n",
       "    <tr>\n",
       "      <th>2133</th>\n",
       "      <td>Great tutorial!</td>\n",
       "    </tr>\n",
       "    <tr>\n",
       "      <th>2148</th>\n",
       "      <td>hi,</td>\n",
       "    </tr>\n",
       "    <tr>\n",
       "      <th>2196</th>\n",
       "      <td>Very nice article!</td>\n",
       "    </tr>\n",
       "    <tr>\n",
       "      <th>2205</th>\n",
       "      <td>Hi Debbie,</td>\n",
       "    </tr>\n",
       "    <tr>\n",
       "      <th>2209</th>\n",
       "      <td>Hi Debbie,</td>\n",
       "    </tr>\n",
       "    <tr>\n",
       "      <th>2217</th>\n",
       "      <td>Part 3 published today: https://www.datacamp.c...</td>\n",
       "    </tr>\n",
       "    <tr>\n",
       "      <th>2223</th>\n",
       "      <td></td>\n",
       "    </tr>\n",
       "  </tbody>\n",
       "</table>\n",
       "</div>"
      ],
      "text/plain": [
       "                                                comment\n",
       "2114                               Thank you very much!\n",
       "2117                                        Hi Karlijn,\n",
       "2120                          Thanks for this tutorial.\n",
       "2133                                    Great tutorial!\n",
       "2148                                                hi,\n",
       "2196                                 Very nice article!\n",
       "2205                                         Hi Debbie,\n",
       "2209                                         Hi Debbie,\n",
       "2217  Part 3 published today: https://www.datacamp.c...\n",
       "2223                                                   "
      ]
     },
     "execution_count": 68,
     "metadata": {},
     "output_type": "execute_result"
    }
   ],
   "source": [
    "final_comments_df[final_comments_df.duplicated()==True].tail(10)"
   ]
  },
  {
   "cell_type": "code",
   "execution_count": 69,
   "metadata": {},
   "outputs": [
    {
     "data": {
      "text/plain": [
       "comment    Part 3 published today: https://www.datacamp.c...\n",
       "Name: 2217, dtype: object"
      ]
     },
     "execution_count": 69,
     "metadata": {},
     "output_type": "execute_result"
    }
   ],
   "source": [
    "final_comments_df.loc[2217]"
   ]
  },
  {
   "cell_type": "code",
   "execution_count": 71,
   "metadata": {},
   "outputs": [],
   "source": [
    "# Drop the duplicates\n",
    "final_comments_df.drop_duplicates(inplace=True)"
   ]
  },
  {
   "cell_type": "code",
   "execution_count": 81,
   "metadata": {},
   "outputs": [
    {
     "name": "stdout",
     "output_type": "stream",
     "text": [
      "comment    0\n",
      "dtype: int64\n"
     ]
    }
   ],
   "source": [
    "# Final check\n",
    "print(final_comments_df.isna().sum())"
   ]
  },
  {
   "cell_type": "code",
   "execution_count": 82,
   "metadata": {},
   "outputs": [],
   "source": [
    "# Overwrite the a .csv file\n",
    "final_comments_df.to_csv('GoodData/final_data.csv', index=False)"
   ]
  }
 ],
 "metadata": {
  "kernelspec": {
   "display_name": "Python 3",
   "language": "python",
   "name": "python3"
  },
  "language_info": {
   "codemirror_mode": {
    "name": "ipython",
    "version": 3
   },
   "file_extension": ".py",
   "mimetype": "text/x-python",
   "name": "python",
   "nbconvert_exporter": "python",
   "pygments_lexer": "ipython3",
   "version": "3.7.1"
  }
 },
 "nbformat": 4,
 "nbformat_minor": 2
}
