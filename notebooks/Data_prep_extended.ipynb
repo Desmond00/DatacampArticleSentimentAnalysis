{
 "cells": [
  {
   "cell_type": "code",
   "execution_count": 1,
   "metadata": {
    "scrolled": true
   },
   "outputs": [],
   "source": [
    "import pandas as pd\n",
    "import numpy as np\n",
    "import glob\n",
    "import matplotlib.pyplot as plt\n",
    "import re\n",
    "%matplotlib inline"
   ]
  },
  {
   "cell_type": "code",
   "execution_count": 6,
   "metadata": {
    "scrolled": true
   },
   "outputs": [
    {
     "data": {
      "text/html": [
       "<div>\n",
       "<style scoped>\n",
       "    .dataframe tbody tr th:only-of-type {\n",
       "        vertical-align: middle;\n",
       "    }\n",
       "\n",
       "    .dataframe tbody tr th {\n",
       "        vertical-align: top;\n",
       "    }\n",
       "\n",
       "    .dataframe thead th {\n",
       "        text-align: right;\n",
       "    }\n",
       "</style>\n",
       "<table border=\"1\" class=\"dataframe\">\n",
       "  <thead>\n",
       "    <tr style=\"text-align: right;\">\n",
       "      <th></th>\n",
       "      <th>Article Name</th>\n",
       "      <th>Article URL extension</th>\n",
       "      <th>Author</th>\n",
       "      <th>Article Description</th>\n",
       "      <th>upvotes</th>\n",
       "    </tr>\n",
       "  </thead>\n",
       "  <tbody>\n",
       "    <tr>\n",
       "      <th>273</th>\n",
       "      <td>Introduction to Cyclical Learning Rates</td>\n",
       "      <td>/community/tutorials/cyclical-learning-neural-...</td>\n",
       "      <td>Sayak Paul</td>\n",
       "      <td>Learn what cyclical learning rate policy is an...</td>\n",
       "      <td>14</td>\n",
       "    </tr>\n",
       "    <tr>\n",
       "      <th>222</th>\n",
       "      <td>Decision Tree Classification in Python</td>\n",
       "      <td>/community/tutorials/decision-tree-classificat...</td>\n",
       "      <td>Avinash Navlani</td>\n",
       "      <td>In this tutorial, learn Decision Tree Classifi...</td>\n",
       "      <td>36</td>\n",
       "    </tr>\n",
       "    <tr>\n",
       "      <th>98</th>\n",
       "      <td>A Tutorial on Loops in R - Usage and Alternatives</td>\n",
       "      <td>/community/tutorials/tutorial-on-loops-in-r</td>\n",
       "      <td>Carlo Fanara</td>\n",
       "      <td>A tutorial on loops in R that looks at the con...</td>\n",
       "      <td>50</td>\n",
       "    </tr>\n",
       "    <tr>\n",
       "      <th>680</th>\n",
       "      <td>Logistic Regression in R Tutorial</td>\n",
       "      <td>/community/tutorials/logistic-regression-R</td>\n",
       "      <td>James Le</td>\n",
       "      <td>Discover all about logistic regression: how it...</td>\n",
       "      <td>74</td>\n",
       "    </tr>\n",
       "    <tr>\n",
       "      <th>543</th>\n",
       "      <td>Working With Zip Files In Python</td>\n",
       "      <td>/community/tutorials/zip-file</td>\n",
       "      <td>Hafeezul Kareem Shaik</td>\n",
       "      <td>In this tutorial, you are going to learn how t...</td>\n",
       "      <td>7</td>\n",
       "    </tr>\n",
       "  </tbody>\n",
       "</table>\n",
       "</div>"
      ],
      "text/plain": [
       "                                          Article Name  \\\n",
       "273            Introduction to Cyclical Learning Rates   \n",
       "222             Decision Tree Classification in Python   \n",
       "98   A Tutorial on Loops in R - Usage and Alternatives   \n",
       "680                  Logistic Regression in R Tutorial   \n",
       "543                   Working With Zip Files In Python   \n",
       "\n",
       "                                 Article URL extension                 Author  \\\n",
       "273  /community/tutorials/cyclical-learning-neural-...             Sayak Paul   \n",
       "222  /community/tutorials/decision-tree-classificat...        Avinash Navlani   \n",
       "98         /community/tutorials/tutorial-on-loops-in-r           Carlo Fanara   \n",
       "680         /community/tutorials/logistic-regression-R               James Le   \n",
       "543                      /community/tutorials/zip-file  Hafeezul Kareem Shaik   \n",
       "\n",
       "                                   Article Description  upvotes  \n",
       "273  Learn what cyclical learning rate policy is an...       14  \n",
       "222  In this tutorial, learn Decision Tree Classifi...       36  \n",
       "98   A tutorial on loops in R that looks at the con...       50  \n",
       "680  Discover all about logistic regression: how it...       74  \n",
       "543  In this tutorial, you are going to learn how t...        7  "
      ]
     },
     "execution_count": 6,
     "metadata": {},
     "output_type": "execute_result"
    }
   ],
   "source": [
    "# articleData.csv briefs about the articles\n",
    "articles_df = pd.read_csv('GoodData/articleData.csv')\n",
    "articles_df.sample(5)"
   ]
  },
  {
   "cell_type": "code",
   "execution_count": 7,
   "metadata": {
    "scrolled": true
   },
   "outputs": [
    {
     "data": {
      "text/plain": [
       "(776, 5)"
      ]
     },
     "execution_count": 7,
     "metadata": {},
     "output_type": "execute_result"
    }
   ],
   "source": [
    "# Shape\n",
    "articles_df.shape"
   ]
  },
  {
   "cell_type": "code",
   "execution_count": 8,
   "metadata": {
    "scrolled": true
   },
   "outputs": [
    {
     "data": {
      "text/html": [
       "<div>\n",
       "<style scoped>\n",
       "    .dataframe tbody tr th:only-of-type {\n",
       "        vertical-align: middle;\n",
       "    }\n",
       "\n",
       "    .dataframe tbody tr th {\n",
       "        vertical-align: top;\n",
       "    }\n",
       "\n",
       "    .dataframe thead th {\n",
       "        text-align: right;\n",
       "    }\n",
       "</style>\n",
       "<table border=\"1\" class=\"dataframe\">\n",
       "  <thead>\n",
       "    <tr style=\"text-align: right;\">\n",
       "      <th></th>\n",
       "      <th>Article Name</th>\n",
       "      <th>Article URL extension</th>\n",
       "      <th>Author</th>\n",
       "      <th>Article Description</th>\n",
       "      <th>upvotes</th>\n",
       "    </tr>\n",
       "  </thead>\n",
       "  <tbody>\n",
       "    <tr>\n",
       "      <th>62</th>\n",
       "      <td>Python For Finance: Algorithmic Trading</td>\n",
       "      <td>/community/tutorials/finance-python-trading</td>\n",
       "      <td>Karlijn Willems</td>\n",
       "      <td>This Python for Finance tutorial introduces yo...</td>\n",
       "      <td>441</td>\n",
       "    </tr>\n",
       "    <tr>\n",
       "      <th>212</th>\n",
       "      <td>Python For Finance: Algorithmic Trading</td>\n",
       "      <td>/community/tutorials/finance-python-trading</td>\n",
       "      <td>Karlijn Willems</td>\n",
       "      <td>This Python for Finance tutorial introduces yo...</td>\n",
       "      <td>441</td>\n",
       "    </tr>\n",
       "    <tr>\n",
       "      <th>362</th>\n",
       "      <td>Python For Finance: Algorithmic Trading</td>\n",
       "      <td>/community/tutorials/finance-python-trading</td>\n",
       "      <td>Karlijn Willems</td>\n",
       "      <td>This Python for Finance tutorial introduces yo...</td>\n",
       "      <td>441</td>\n",
       "    </tr>\n",
       "    <tr>\n",
       "      <th>512</th>\n",
       "      <td>Python For Finance: Algorithmic Trading</td>\n",
       "      <td>/community/tutorials/finance-python-trading</td>\n",
       "      <td>Karlijn Willems</td>\n",
       "      <td>This Python for Finance tutorial introduces yo...</td>\n",
       "      <td>441</td>\n",
       "    </tr>\n",
       "  </tbody>\n",
       "</table>\n",
       "</div>"
      ],
      "text/plain": [
       "                                Article Name  \\\n",
       "62   Python For Finance: Algorithmic Trading   \n",
       "212  Python For Finance: Algorithmic Trading   \n",
       "362  Python For Finance: Algorithmic Trading   \n",
       "512  Python For Finance: Algorithmic Trading   \n",
       "\n",
       "                           Article URL extension           Author  \\\n",
       "62   /community/tutorials/finance-python-trading  Karlijn Willems   \n",
       "212  /community/tutorials/finance-python-trading  Karlijn Willems   \n",
       "362  /community/tutorials/finance-python-trading  Karlijn Willems   \n",
       "512  /community/tutorials/finance-python-trading  Karlijn Willems   \n",
       "\n",
       "                                   Article Description  upvotes  \n",
       "62   This Python for Finance tutorial introduces yo...      441  \n",
       "212  This Python for Finance tutorial introduces yo...      441  \n",
       "362  This Python for Finance tutorial introduces yo...      441  \n",
       "512  This Python for Finance tutorial introduces yo...      441  "
      ]
     },
     "execution_count": 8,
     "metadata": {},
     "output_type": "execute_result"
    }
   ],
   "source": [
    "# Which article has the highest number of upvotes?\n",
    "maximum_upvotes = articles_df.upvotes.max()\n",
    "articles_df[articles_df.upvotes==maximum_upvotes]"
   ]
  },
  {
   "cell_type": "code",
   "execution_count": 9,
   "metadata": {
    "scrolled": true
   },
   "outputs": [
    {
     "data": {
      "text/plain": [
       "(449, 5)"
      ]
     },
     "execution_count": 9,
     "metadata": {},
     "output_type": "execute_result"
    }
   ],
   "source": [
    "# Are there duplicates?\n",
    "articles_df[articles_df.duplicated()].shape"
   ]
  },
  {
   "cell_type": "code",
   "execution_count": 10,
   "metadata": {
    "scrolled": true
   },
   "outputs": [
    {
     "data": {
      "text/plain": [
       "(327, 5)"
      ]
     },
     "execution_count": 10,
     "metadata": {},
     "output_type": "execute_result"
    }
   ],
   "source": [
    "# Drop the duplicates\n",
    "articles_df.drop_duplicates(inplace=True)\n",
    "articles_df.shape"
   ]
  },
  {
   "cell_type": "code",
   "execution_count": 11,
   "metadata": {
    "scrolled": true
   },
   "outputs": [
    {
     "data": {
      "text/html": [
       "<div>\n",
       "<style scoped>\n",
       "    .dataframe tbody tr th:only-of-type {\n",
       "        vertical-align: middle;\n",
       "    }\n",
       "\n",
       "    .dataframe tbody tr th {\n",
       "        vertical-align: top;\n",
       "    }\n",
       "\n",
       "    .dataframe thead th {\n",
       "        text-align: right;\n",
       "    }\n",
       "</style>\n",
       "<table border=\"1\" class=\"dataframe\">\n",
       "  <thead>\n",
       "    <tr style=\"text-align: right;\">\n",
       "      <th></th>\n",
       "      <th>Article Name</th>\n",
       "      <th>Article URL extension</th>\n",
       "      <th>Author</th>\n",
       "      <th>Article Description</th>\n",
       "      <th>upvotes</th>\n",
       "    </tr>\n",
       "  </thead>\n",
       "  <tbody>\n",
       "    <tr>\n",
       "      <th>62</th>\n",
       "      <td>Python For Finance: Algorithmic Trading</td>\n",
       "      <td>/community/tutorials/finance-python-trading</td>\n",
       "      <td>Karlijn Willems</td>\n",
       "      <td>This Python for Finance tutorial introduces yo...</td>\n",
       "      <td>441</td>\n",
       "    </tr>\n",
       "  </tbody>\n",
       "</table>\n",
       "</div>"
      ],
      "text/plain": [
       "                               Article Name  \\\n",
       "62  Python For Finance: Algorithmic Trading   \n",
       "\n",
       "                          Article URL extension           Author  \\\n",
       "62  /community/tutorials/finance-python-trading  Karlijn Willems   \n",
       "\n",
       "                                  Article Description  upvotes  \n",
       "62  This Python for Finance tutorial introduces yo...      441  "
      ]
     },
     "execution_count": 11,
     "metadata": {},
     "output_type": "execute_result"
    }
   ],
   "source": [
    "# Run the maximum upvotes query again\n",
    "articles_df[articles_df.upvotes==maximum_upvotes]"
   ]
  },
  {
   "cell_type": "code",
   "execution_count": 12,
   "metadata": {
    "scrolled": true
   },
   "outputs": [
    {
     "data": {
      "text/html": [
       "<div>\n",
       "<style scoped>\n",
       "    .dataframe tbody tr th:only-of-type {\n",
       "        vertical-align: middle;\n",
       "    }\n",
       "\n",
       "    .dataframe tbody tr th {\n",
       "        vertical-align: top;\n",
       "    }\n",
       "\n",
       "    .dataframe thead th {\n",
       "        text-align: right;\n",
       "    }\n",
       "</style>\n",
       "<table border=\"1\" class=\"dataframe\">\n",
       "  <thead>\n",
       "    <tr style=\"text-align: right;\">\n",
       "      <th></th>\n",
       "      <th>Article Name</th>\n",
       "      <th>Article URL extension</th>\n",
       "      <th>Author</th>\n",
       "      <th>Article Description</th>\n",
       "      <th>upvotes</th>\n",
       "    </tr>\n",
       "  </thead>\n",
       "  <tbody>\n",
       "    <tr>\n",
       "      <th>770</th>\n",
       "      <td>The RDocumentation Poster</td>\n",
       "      <td>/community/tutorials/package-rankings-task-vie...</td>\n",
       "      <td>Karlijn Willems</td>\n",
       "      <td>Rdocumentation.org is the only R documentation...</td>\n",
       "      <td>2</td>\n",
       "    </tr>\n",
       "  </tbody>\n",
       "</table>\n",
       "</div>"
      ],
      "text/plain": [
       "                  Article Name  \\\n",
       "770  The RDocumentation Poster   \n",
       "\n",
       "                                 Article URL extension           Author  \\\n",
       "770  /community/tutorials/package-rankings-task-vie...  Karlijn Willems   \n",
       "\n",
       "                                   Article Description  upvotes  \n",
       "770  Rdocumentation.org is the only R documentation...        2  "
      ]
     },
     "execution_count": 12,
     "metadata": {},
     "output_type": "execute_result"
    }
   ],
   "source": [
    "# Lowest upvote?\n",
    "lowest_upvotes = articles_df.upvotes.min()\n",
    "articles_df[articles_df.upvotes==lowest_upvotes]"
   ]
  },
  {
   "cell_type": "code",
   "execution_count": 13,
   "metadata": {
    "scrolled": true
   },
   "outputs": [
    {
     "data": {
      "text/plain": [
       "91"
      ]
     },
     "execution_count": 13,
     "metadata": {},
     "output_type": "execute_result"
    }
   ],
   "source": [
    "# How many unique authors contributed?\n",
    "len(articles_df.Author.unique())"
   ]
  },
  {
   "cell_type": "markdown",
   "metadata": {},
   "source": [
    "We now start with the comments posted on the community articles and tutorial from time to time. `commentsData` is our folder of interest. "
   ]
  },
  {
   "cell_type": "code",
   "execution_count": 14,
   "metadata": {
    "scrolled": true
   },
   "outputs": [
    {
     "name": "stdout",
     "output_type": "stream",
     "text": [
      "1\n"
     ]
    }
   ],
   "source": [
    "# How many articles/tutorials are there in this folder?\n",
    "total_articles = !ls commentsData/\n",
    "print(len(total_articles))"
   ]
  },
  {
   "cell_type": "markdown",
   "metadata": {},
   "source": [
    "So, we have got the comments scrapped for 325 articles/tutorials of DataCamp Community. Consider the following comment and its reply given: \n",
    "\n",
    "![](images/Image1.png)\n"
   ]
  },
  {
   "cell_type": "markdown",
   "metadata": {},
   "source": [
    "During our scrapping process, we captured only the first comments _not the entire conversation chain including the replies_. Let's now load the first article we have in the folder `commentsData` and glare through its comments (if any). "
   ]
  },
  {
   "cell_type": "code",
   "execution_count": 15,
   "metadata": {
    "scrolled": true
   },
   "outputs": [
    {
     "data": {
      "text/html": [
       "<div>\n",
       "<style scoped>\n",
       "    .dataframe tbody tr th:only-of-type {\n",
       "        vertical-align: middle;\n",
       "    }\n",
       "\n",
       "    .dataframe tbody tr th {\n",
       "        vertical-align: top;\n",
       "    }\n",
       "\n",
       "    .dataframe thead th {\n",
       "        text-align: right;\n",
       "    }\n",
       "</style>\n",
       "<table border=\"1\" class=\"dataframe\">\n",
       "  <thead>\n",
       "    <tr style=\"text-align: right;\">\n",
       "      <th></th>\n",
       "      <th>commentedBy</th>\n",
       "      <th>commentMessage</th>\n",
       "      <th>upvotes</th>\n",
       "      <th>commentDate</th>\n",
       "    </tr>\n",
       "  </thead>\n",
       "  <tbody>\n",
       "    <tr>\n",
       "      <th>0</th>\n",
       "      <td>Jeremiah James</td>\n",
       "      <td>Thank you for this tutorial, very helpful and ...</td>\n",
       "      <td>3</td>\n",
       "      <td>01/04/2019 08:29 PM</td>\n",
       "    </tr>\n",
       "  </tbody>\n",
       "</table>\n",
       "</div>"
      ],
      "text/plain": [
       "      commentedBy                                     commentMessage  upvotes  \\\n",
       "0  Jeremiah James  Thank you for this tutorial, very helpful and ...        3   \n",
       "\n",
       "           commentDate  \n",
       "0  01/04/2019 08:29 PM  "
      ]
     },
     "execution_count": 15,
     "metadata": {},
     "output_type": "execute_result"
    }
   ],
   "source": [
    "comment_sample_1 = pd.read_csv('commentDataDetailed/10CommandlineUtilitiesinPostgreSQL.csv')\n",
    "comment_sample_1.head()"
   ]
  },
  {
   "cell_type": "markdown",
   "metadata": {},
   "source": [
    "Note that `10CommandlineUtilitiesinPostgreSQL` is the name of the respective article. We are interested in knwoing if a comment is spam or non-spam which is essentially a **binary classification** problem. To approach the solution, we would first need to get all the comments from all the articles in one place. \n",
    "\n",
    "Binary classification is a _supervised learning_ task but we do not have labels for any of the comments. So, we will have to resort to **manual labelling**. We will label some of the comments manually and then we will proceed. But first, let's get the comments in one place (a pandas DataFrame!)."
   ]
  },
  {
   "cell_type": "markdown",
   "metadata": {},
   "source": [
    "### Dictionary to map article names with file names"
   ]
  },
  {
   "cell_type": "code",
   "execution_count": 16,
   "metadata": {},
   "outputs": [],
   "source": [
    "articleDict = {}\n",
    "# Regex for enlighs, chinese characters\n",
    "regExp = re.compile(r'[^A-Za-z0-9_⺀-⺙⺛-⻳⼀-⿕々〇〡-〩〸-〺〻㐀-䶵一-鿃豈-鶴侮-頻並-龎]', re.UNICODE)\n",
    "for articleName in articles_df['Article Name'].tolist():\n",
    "    articleDict['commentDataDetailed\\\\'+regExp.sub('', articleName)+\".csv\"] = articleName"
   ]
  },
  {
   "cell_type": "markdown",
   "metadata": {},
   "source": [
    "### Adding the article reference with the comments for better labelling"
   ]
  },
  {
   "cell_type": "code",
   "execution_count": null,
   "metadata": {
    "scrolled": false
   },
   "outputs": [],
   "source": [
    "path = 'commentDataDetailed'\n",
    "all_files = glob.glob(path + \"*.csv\")\n",
    "\n",
    "temp_list = []\n",
    "count_no_data = 0\n",
    "columnNames = None\n",
    "\n",
    "# for getting dynamic column names\n",
    "for fileIterator in range(0, len(all_files)):\n",
    "    try: \n",
    "        columnNames = pd.read_csv(all_files[fileIterator], index_col=None).columns\n",
    "    except:\n",
    "        continue\n",
    "    \n",
    "for filename in all_files:\n",
    "    try:\n",
    "        # mentioning names parameter seperately because read_csv() functions engine=python with encoding=utf-8 is unable to read column names properly\n",
    "        temp_df = pd.read_csv(filename, names=columnNames,index_col=None, header=None, skiprows=[0], engine='python', encoding='utf-8')\n",
    "        # adding article names also for the reference\n",
    "        temp_df['articleName'] = articleDict[filename]\n",
    "        temp_list.append(temp_df)\n",
    "    except:\n",
    "        count_no_data += 1\n",
    "        \n",
    "final_df = pd.concat(temp_list, axis=0, ignore_index=True)\n",
    "print('Total comments accumulated: {} and {} documents do not have any comments'.\n",
    "                          format(len(final_df), count_no_data))"
   ]
  },
  {
   "cell_type": "code",
   "execution_count": 14,
   "metadata": {
    "scrolled": true
   },
   "outputs": [
    {
     "data": {
      "text/html": [
       "<div>\n",
       "<style scoped>\n",
       "    .dataframe tbody tr th:only-of-type {\n",
       "        vertical-align: middle;\n",
       "    }\n",
       "\n",
       "    .dataframe tbody tr th {\n",
       "        vertical-align: top;\n",
       "    }\n",
       "\n",
       "    .dataframe thead th {\n",
       "        text-align: right;\n",
       "    }\n",
       "</style>\n",
       "<table border=\"1\" class=\"dataframe\">\n",
       "  <thead>\n",
       "    <tr style=\"text-align: right;\">\n",
       "      <th></th>\n",
       "      <th>commentedBy</th>\n",
       "      <th>commentMessage</th>\n",
       "      <th>upvotes</th>\n",
       "      <th>commentDate</th>\n",
       "      <th>articleName</th>\n",
       "    </tr>\n",
       "  </thead>\n",
       "  <tbody>\n",
       "    <tr>\n",
       "      <th>1080</th>\n",
       "      <td>Elias Oziolor</td>\n",
       "      <td>Another small mistake. When you're merging the...</td>\n",
       "      <td>2</td>\n",
       "      <td>28/07/2018 05:30 AM</td>\n",
       "      <td>Machine Learning in R for beginners</td>\n",
       "    </tr>\n",
       "    <tr>\n",
       "      <th>861</th>\n",
       "      <td>Jan Eite Bullema</td>\n",
       "      <td>A little error in this line, should be save_m...</td>\n",
       "      <td>1</td>\n",
       "      <td>22/05/2018 02:25 PM</td>\n",
       "      <td>keras: Deep Learning in R</td>\n",
       "    </tr>\n",
       "    <tr>\n",
       "      <th>166</th>\n",
       "      <td>mrgb1 ch</td>\n",
       "      <td>\\n\\nHolistic Bliss Keto  \"We have a positive...</td>\n",
       "      <td>1</td>\n",
       "      <td>30/05/2019 08:51 AM</td>\n",
       "      <td>AWS EC2 Tutorial For Beginners</td>\n",
       "    </tr>\n",
       "    <tr>\n",
       "      <th>246</th>\n",
       "      <td>Aman Sarviya</td>\n",
       "      <td>Hello @KarlijnWillems Thank you for the blog,\\...</td>\n",
       "      <td>0</td>\n",
       "      <td>23/05/2019 12:57 PM</td>\n",
       "      <td>Choosing R or Python for Data Analysis? An Inf...</td>\n",
       "    </tr>\n",
       "    <tr>\n",
       "      <th>589</th>\n",
       "      <td>Erkan ŞİRİN</td>\n",
       "      <td>At Visualize Color section the code should be ...</td>\n",
       "      <td>1</td>\n",
       "      <td>28/06/2018 11:59 AM</td>\n",
       "      <td>Graph Optimization with NetworkX in Python</td>\n",
       "    </tr>\n",
       "    <tr>\n",
       "      <th>1320</th>\n",
       "      <td>Mark Loat</td>\n",
       "      <td>Thanks for the article however, can you tell m...</td>\n",
       "      <td>1</td>\n",
       "      <td>24/04/2019 01:08 PM</td>\n",
       "      <td>Python Data Structures Tutorial</td>\n",
       "    </tr>\n",
       "    <tr>\n",
       "      <th>1223</th>\n",
       "      <td>Denis Rasulev</td>\n",
       "      <td>Still not fixed - code is barely visible. Othe...</td>\n",
       "      <td>2</td>\n",
       "      <td>24/05/2018 10:17 PM</td>\n",
       "      <td>PEP-8 Tutorial: Code Standards in Python</td>\n",
       "    </tr>\n",
       "    <tr>\n",
       "      <th>1235</th>\n",
       "      <td>Mallikarjun M</td>\n",
       "      <td>Very helpful with the subtopics of when to use...</td>\n",
       "      <td>1</td>\n",
       "      <td>19/03/2019 07:33 AM</td>\n",
       "      <td>Pickle in Python: Object Serialization</td>\n",
       "    </tr>\n",
       "    <tr>\n",
       "      <th>410</th>\n",
       "      <td>Jude Anlasun</td>\n",
       "      <td>Awesome! You nailed it, very good read.</td>\n",
       "      <td>2</td>\n",
       "      <td>03/10/2018 12:17 AM</td>\n",
       "      <td>Demystifying Crucial Statistics in Python</td>\n",
       "    </tr>\n",
       "    <tr>\n",
       "      <th>882</th>\n",
       "      <td>zhuowang</td>\n",
       "      <td>Really awesome program. But I face a problem w...</td>\n",
       "      <td>3</td>\n",
       "      <td>29/05/2018 11:14 PM</td>\n",
       "      <td>Keras Tutorial: Deep Learning in Python</td>\n",
       "    </tr>\n",
       "  </tbody>\n",
       "</table>\n",
       "</div>"
      ],
      "text/plain": [
       "           commentedBy                                     commentMessage  \\\n",
       "1080     Elias Oziolor  Another small mistake. When you're merging the...   \n",
       "861   Jan Eite Bullema   A little error in this line, should be save_m...   \n",
       "166           mrgb1 ch    \\n\\nHolistic Bliss Keto  \"We have a positive...   \n",
       "246       Aman Sarviya  Hello @KarlijnWillems Thank you for the blog,\\...   \n",
       "589        Erkan ŞİRİN  At Visualize Color section the code should be ...   \n",
       "1320         Mark Loat  Thanks for the article however, can you tell m...   \n",
       "1223     Denis Rasulev  Still not fixed - code is barely visible. Othe...   \n",
       "1235     Mallikarjun M  Very helpful with the subtopics of when to use...   \n",
       "410       Jude Anlasun            Awesome! You nailed it, very good read.   \n",
       "882           zhuowang  Really awesome program. But I face a problem w...   \n",
       "\n",
       "     upvotes          commentDate  \\\n",
       "1080       2  28/07/2018 05:30 AM   \n",
       "861        1  22/05/2018 02:25 PM   \n",
       "166        1  30/05/2019 08:51 AM   \n",
       "246        0  23/05/2019 12:57 PM   \n",
       "589        1  28/06/2018 11:59 AM   \n",
       "1320       1  24/04/2019 01:08 PM   \n",
       "1223       2  24/05/2018 10:17 PM   \n",
       "1235       1  19/03/2019 07:33 AM   \n",
       "410        2  03/10/2018 12:17 AM   \n",
       "882        3  29/05/2018 11:14 PM   \n",
       "\n",
       "                                            articleName  \n",
       "1080                Machine Learning in R for beginners  \n",
       "861                           keras: Deep Learning in R  \n",
       "166                      AWS EC2 Tutorial For Beginners  \n",
       "246   Choosing R or Python for Data Analysis? An Inf...  \n",
       "589          Graph Optimization with NetworkX in Python  \n",
       "1320                    Python Data Structures Tutorial  \n",
       "1223           PEP-8 Tutorial: Code Standards in Python  \n",
       "1235             Pickle in Python: Object Serialization  \n",
       "410           Demystifying Crucial Statistics in Python  \n",
       "882             Keras Tutorial: Deep Learning in Python  "
      ]
     },
     "execution_count": 14,
     "metadata": {},
     "output_type": "execute_result"
    }
   ],
   "source": [
    "# Review\n",
    "final_df.sample(10)"
   ]
  },
  {
   "cell_type": "code",
   "execution_count": 15,
   "metadata": {
    "scrolled": true
   },
   "outputs": [
    {
     "data": {
      "text/html": [
       "<div>\n",
       "<style scoped>\n",
       "    .dataframe tbody tr th:only-of-type {\n",
       "        vertical-align: middle;\n",
       "    }\n",
       "\n",
       "    .dataframe tbody tr th {\n",
       "        vertical-align: top;\n",
       "    }\n",
       "\n",
       "    .dataframe thead th {\n",
       "        text-align: right;\n",
       "    }\n",
       "</style>\n",
       "<table border=\"1\" class=\"dataframe\">\n",
       "  <thead>\n",
       "    <tr style=\"text-align: right;\">\n",
       "      <th></th>\n",
       "      <th>comment</th>\n",
       "      <th>articleName</th>\n",
       "    </tr>\n",
       "  </thead>\n",
       "  <tbody>\n",
       "    <tr>\n",
       "      <th>204</th>\n",
       "      <td>Hey!\\n\\nThanks for your tutorial, it's very us...</td>\n",
       "      <td>Beginner's Guide to Google's Vision API in Python</td>\n",
       "    </tr>\n",
       "    <tr>\n",
       "      <th>2191</th>\n",
       "      <td>Error in write_delim(x, path, delim = \"\\t\", n...</td>\n",
       "      <td>Web Scraping in R: rvest Tutorial</td>\n",
       "    </tr>\n",
       "    <tr>\n",
       "      <th>1810</th>\n",
       "      <td>Is anybody else getting an error when trying t...</td>\n",
       "      <td>Survival Analysis in R For Beginners</td>\n",
       "    </tr>\n",
       "    <tr>\n",
       "      <th>466</th>\n",
       "      <td>This was very helpful, thanks!</td>\n",
       "      <td>Differences Between Machine Learning &amp; Deep Le...</td>\n",
       "    </tr>\n",
       "    <tr>\n",
       "      <th>1249</th>\n",
       "      <td>great details</td>\n",
       "      <td>Poker Probability and Statistics with Python</td>\n",
       "    </tr>\n",
       "  </tbody>\n",
       "</table>\n",
       "</div>"
      ],
      "text/plain": [
       "                                                comment  \\\n",
       "204   Hey!\\n\\nThanks for your tutorial, it's very us...   \n",
       "2191   Error in write_delim(x, path, delim = \"\\t\", n...   \n",
       "1810  Is anybody else getting an error when trying t...   \n",
       "466                     This was very helpful, thanks!    \n",
       "1249                                      great details   \n",
       "\n",
       "                                            articleName  \n",
       "204   Beginner's Guide to Google's Vision API in Python  \n",
       "2191                  Web Scraping in R: rvest Tutorial  \n",
       "1810               Survival Analysis in R For Beginners  \n",
       "466   Differences Between Machine Learning & Deep Le...  \n",
       "1249       Poker Probability and Statistics with Python  "
      ]
     },
     "execution_count": 15,
     "metadata": {},
     "output_type": "execute_result"
    }
   ],
   "source": [
    "# Get the comments only\n",
    "final_comments_df = pd.DataFrame()\n",
    "final_comments_df['comment'] = final_df['commentMessage']\n",
    "final_comments_df['articleName'] = final_df['articleName']\n",
    "final_comments_df.sample(5)"
   ]
  },
  {
   "cell_type": "code",
   "execution_count": 16,
   "metadata": {
    "scrolled": true
   },
   "outputs": [
    {
     "name": "stdout",
     "output_type": "stream",
     "text": [
      "File saved!\n"
     ]
    }
   ],
   "source": [
    "# Let's serialize this DataFrame to a .csv file\n",
    "final_comments_df.to_csv('GoodData/final_data_extended.csv', index=False)\n",
    "print('File saved!')"
   ]
  },
  {
   "cell_type": "markdown",
   "metadata": {},
   "source": [
    "### Basic EDA"
   ]
  },
  {
   "cell_type": "code",
   "execution_count": 17,
   "metadata": {
    "scrolled": true
   },
   "outputs": [
    {
     "data": {
      "text/plain": [
       "comment        2\n",
       "articleName    0\n",
       "dtype: int64"
      ]
     },
     "execution_count": 17,
     "metadata": {},
     "output_type": "execute_result"
    }
   ],
   "source": [
    "# Nulls?\n",
    "final_comments_df.isna().sum()"
   ]
  },
  {
   "cell_type": "code",
   "execution_count": 18,
   "metadata": {
    "scrolled": true
   },
   "outputs": [
    {
     "data": {
      "text/html": [
       "<div>\n",
       "<style scoped>\n",
       "    .dataframe tbody tr th:only-of-type {\n",
       "        vertical-align: middle;\n",
       "    }\n",
       "\n",
       "    .dataframe tbody tr th {\n",
       "        vertical-align: top;\n",
       "    }\n",
       "\n",
       "    .dataframe thead th {\n",
       "        text-align: right;\n",
       "    }\n",
       "</style>\n",
       "<table border=\"1\" class=\"dataframe\">\n",
       "  <thead>\n",
       "    <tr style=\"text-align: right;\">\n",
       "      <th></th>\n",
       "      <th>comment</th>\n",
       "      <th>articleName</th>\n",
       "    </tr>\n",
       "  </thead>\n",
       "  <tbody>\n",
       "    <tr>\n",
       "      <th>195</th>\n",
       "      <td>NaN</td>\n",
       "      <td>Beginner's Guide to Feature Selection in Python</td>\n",
       "    </tr>\n",
       "    <tr>\n",
       "      <th>1994</th>\n",
       "      <td>NaN</td>\n",
       "      <td>Top 5 Python IDEs For Data Science</td>\n",
       "    </tr>\n",
       "  </tbody>\n",
       "</table>\n",
       "</div>"
      ],
      "text/plain": [
       "     comment                                      articleName\n",
       "195      NaN  Beginner's Guide to Feature Selection in Python\n",
       "1994     NaN               Top 5 Python IDEs For Data Science"
      ]
     },
     "execution_count": 18,
     "metadata": {},
     "output_type": "execute_result"
    }
   ],
   "source": [
    "# Where?\n",
    "final_comments_df[final_comments_df.comment.isna()]"
   ]
  },
  {
   "cell_type": "code",
   "execution_count": 19,
   "metadata": {
    "scrolled": true
   },
   "outputs": [
    {
     "name": "stdout",
     "output_type": "stream",
     "text": [
      "Before dropping the nulls shape of the DataFrame: (2247, 2)\n",
      "Before dropping the nulls shape of the DataFrame: (2245, 2)\n"
     ]
    }
   ],
   "source": [
    "# Goodbye\n",
    "print('Before dropping the nulls shape of the DataFrame: {}'.format(final_comments_df.shape))\n",
    "final_comments_df = final_comments_df.dropna().reset_index(drop=True)\n",
    "print('Before dropping the nulls shape of the DataFrame: {}'.format(final_comments_df.shape))"
   ]
  },
  {
   "cell_type": "code",
   "execution_count": 20,
   "metadata": {
    "scrolled": true
   },
   "outputs": [
    {
     "data": {
      "text/html": [
       "<div>\n",
       "<style scoped>\n",
       "    .dataframe tbody tr th:only-of-type {\n",
       "        vertical-align: middle;\n",
       "    }\n",
       "\n",
       "    .dataframe tbody tr th {\n",
       "        vertical-align: top;\n",
       "    }\n",
       "\n",
       "    .dataframe thead th {\n",
       "        text-align: right;\n",
       "    }\n",
       "</style>\n",
       "<table border=\"1\" class=\"dataframe\">\n",
       "  <thead>\n",
       "    <tr style=\"text-align: right;\">\n",
       "      <th></th>\n",
       "      <th>comment</th>\n",
       "      <th>articleName</th>\n",
       "    </tr>\n",
       "  </thead>\n",
       "  <tbody>\n",
       "    <tr>\n",
       "      <th>695</th>\n",
       "      <td>Very good article. This is a tutorial video ex...</td>\n",
       "      <td>Installing Anaconda on Windows</td>\n",
       "    </tr>\n",
       "    <tr>\n",
       "      <th>802</th>\n",
       "      <td>good article</td>\n",
       "      <td>JSON Data in Python</td>\n",
       "    </tr>\n",
       "    <tr>\n",
       "      <th>887</th>\n",
       "      <td>Thank you very much!</td>\n",
       "      <td>Keras Tutorial: Deep Learning in Python</td>\n",
       "    </tr>\n",
       "    <tr>\n",
       "      <th>908</th>\n",
       "      <td>Great article!</td>\n",
       "      <td>K-Means Clustering in Python with scikit-learn</td>\n",
       "    </tr>\n",
       "    <tr>\n",
       "      <th>1070</th>\n",
       "      <td>Excellent tutorial!</td>\n",
       "      <td>Machine Learning in R for beginners</td>\n",
       "    </tr>\n",
       "    <tr>\n",
       "      <th>1445</th>\n",
       "      <td>nice</td>\n",
       "      <td>Python For Finance: Algorithmic Trading</td>\n",
       "    </tr>\n",
       "    <tr>\n",
       "      <th>1546</th>\n",
       "      <td></td>\n",
       "      <td>Python Object-Oriented Programming (OOP): Tuto...</td>\n",
       "    </tr>\n",
       "    <tr>\n",
       "      <th>1581</th>\n",
       "      <td></td>\n",
       "      <td>Python Seaborn Tutorial For Beginners</td>\n",
       "    </tr>\n",
       "    <tr>\n",
       "      <th>1599</th>\n",
       "      <td>Thanks</td>\n",
       "      <td>Python Tuples Tutorial</td>\n",
       "    </tr>\n",
       "    <tr>\n",
       "      <th>1845</th>\n",
       "      <td>Great tutorial!</td>\n",
       "      <td>TensorFlow Tutorial For Beginners</td>\n",
       "    </tr>\n",
       "    <tr>\n",
       "      <th>1869</th>\n",
       "      <td>for i in range(201):\\n\\n        print('EPOCH',...</td>\n",
       "      <td>TensorFlow Tutorial For Beginners</td>\n",
       "    </tr>\n",
       "    <tr>\n",
       "      <th>1927</th>\n",
       "      <td>Great tutorial!</td>\n",
       "      <td>The Pip Python Package Manager</td>\n",
       "    </tr>\n",
       "    <tr>\n",
       "      <th>1952</th>\n",
       "      <td>Very nice article!</td>\n",
       "      <td>Tidy Sentiment Analysis in R</td>\n",
       "    </tr>\n",
       "    <tr>\n",
       "      <th>1973</th>\n",
       "      <td>Part 3 published today: https://www.datacamp.c...</td>\n",
       "      <td>Tidy Sentiment Analysis in R</td>\n",
       "    </tr>\n",
       "  </tbody>\n",
       "</table>\n",
       "</div>"
      ],
      "text/plain": [
       "                                                comment  \\\n",
       "695   Very good article. This is a tutorial video ex...   \n",
       "802                                        good article   \n",
       "887                                Thank you very much!   \n",
       "908                                      Great article!   \n",
       "1070                                Excellent tutorial!   \n",
       "1445                                               nice   \n",
       "1546                                                      \n",
       "1581                                                      \n",
       "1599                                             Thanks   \n",
       "1845                                    Great tutorial!   \n",
       "1869  for i in range(201):\\n\\n        print('EPOCH',...   \n",
       "1927                                    Great tutorial!   \n",
       "1952                                 Very nice article!   \n",
       "1973  Part 3 published today: https://www.datacamp.c...   \n",
       "\n",
       "                                            articleName  \n",
       "695                      Installing Anaconda on Windows  \n",
       "802                                 JSON Data in Python  \n",
       "887             Keras Tutorial: Deep Learning in Python  \n",
       "908      K-Means Clustering in Python with scikit-learn  \n",
       "1070                Machine Learning in R for beginners  \n",
       "1445            Python For Finance: Algorithmic Trading  \n",
       "1546  Python Object-Oriented Programming (OOP): Tuto...  \n",
       "1581              Python Seaborn Tutorial For Beginners  \n",
       "1599                             Python Tuples Tutorial  \n",
       "1845                  TensorFlow Tutorial For Beginners  \n",
       "1869                  TensorFlow Tutorial For Beginners  \n",
       "1927                     The Pip Python Package Manager  \n",
       "1952                       Tidy Sentiment Analysis in R  \n",
       "1973                       Tidy Sentiment Analysis in R  "
      ]
     },
     "execution_count": 20,
     "metadata": {},
     "output_type": "execute_result"
    }
   ],
   "source": [
    "# Duplicates?\n",
    "final_comments_df[final_comments_df['comment'].duplicated()==True].head(20)"
   ]
  },
  {
   "cell_type": "code",
   "execution_count": 21,
   "metadata": {
    "scrolled": true
   },
   "outputs": [
    {
     "data": {
      "text/html": [
       "<div>\n",
       "<style scoped>\n",
       "    .dataframe tbody tr th:only-of-type {\n",
       "        vertical-align: middle;\n",
       "    }\n",
       "\n",
       "    .dataframe tbody tr th {\n",
       "        vertical-align: top;\n",
       "    }\n",
       "\n",
       "    .dataframe thead th {\n",
       "        text-align: right;\n",
       "    }\n",
       "</style>\n",
       "<table border=\"1\" class=\"dataframe\">\n",
       "  <thead>\n",
       "    <tr style=\"text-align: right;\">\n",
       "      <th></th>\n",
       "      <th>comment</th>\n",
       "      <th>articleName</th>\n",
       "    </tr>\n",
       "  </thead>\n",
       "  <tbody>\n",
       "    <tr>\n",
       "      <th>1070</th>\n",
       "      <td>Excellent tutorial!</td>\n",
       "      <td>Machine Learning in R for beginners</td>\n",
       "    </tr>\n",
       "    <tr>\n",
       "      <th>1445</th>\n",
       "      <td>nice</td>\n",
       "      <td>Python For Finance: Algorithmic Trading</td>\n",
       "    </tr>\n",
       "    <tr>\n",
       "      <th>1546</th>\n",
       "      <td></td>\n",
       "      <td>Python Object-Oriented Programming (OOP): Tuto...</td>\n",
       "    </tr>\n",
       "    <tr>\n",
       "      <th>1581</th>\n",
       "      <td></td>\n",
       "      <td>Python Seaborn Tutorial For Beginners</td>\n",
       "    </tr>\n",
       "    <tr>\n",
       "      <th>1599</th>\n",
       "      <td>Thanks</td>\n",
       "      <td>Python Tuples Tutorial</td>\n",
       "    </tr>\n",
       "    <tr>\n",
       "      <th>1845</th>\n",
       "      <td>Great tutorial!</td>\n",
       "      <td>TensorFlow Tutorial For Beginners</td>\n",
       "    </tr>\n",
       "    <tr>\n",
       "      <th>1869</th>\n",
       "      <td>for i in range(201):\\n\\n        print('EPOCH',...</td>\n",
       "      <td>TensorFlow Tutorial For Beginners</td>\n",
       "    </tr>\n",
       "    <tr>\n",
       "      <th>1927</th>\n",
       "      <td>Great tutorial!</td>\n",
       "      <td>The Pip Python Package Manager</td>\n",
       "    </tr>\n",
       "    <tr>\n",
       "      <th>1952</th>\n",
       "      <td>Very nice article!</td>\n",
       "      <td>Tidy Sentiment Analysis in R</td>\n",
       "    </tr>\n",
       "    <tr>\n",
       "      <th>1973</th>\n",
       "      <td>Part 3 published today: https://www.datacamp.c...</td>\n",
       "      <td>Tidy Sentiment Analysis in R</td>\n",
       "    </tr>\n",
       "  </tbody>\n",
       "</table>\n",
       "</div>"
      ],
      "text/plain": [
       "                                                comment  \\\n",
       "1070                                Excellent tutorial!   \n",
       "1445                                               nice   \n",
       "1546                                                      \n",
       "1581                                                      \n",
       "1599                                             Thanks   \n",
       "1845                                    Great tutorial!   \n",
       "1869  for i in range(201):\\n\\n        print('EPOCH',...   \n",
       "1927                                    Great tutorial!   \n",
       "1952                                 Very nice article!   \n",
       "1973  Part 3 published today: https://www.datacamp.c...   \n",
       "\n",
       "                                            articleName  \n",
       "1070                Machine Learning in R for beginners  \n",
       "1445            Python For Finance: Algorithmic Trading  \n",
       "1546  Python Object-Oriented Programming (OOP): Tuto...  \n",
       "1581              Python Seaborn Tutorial For Beginners  \n",
       "1599                             Python Tuples Tutorial  \n",
       "1845                  TensorFlow Tutorial For Beginners  \n",
       "1869                  TensorFlow Tutorial For Beginners  \n",
       "1927                     The Pip Python Package Manager  \n",
       "1952                       Tidy Sentiment Analysis in R  \n",
       "1973                       Tidy Sentiment Analysis in R  "
      ]
     },
     "execution_count": 21,
     "metadata": {},
     "output_type": "execute_result"
    }
   ],
   "source": [
    "final_comments_df[final_comments_df['comment'].duplicated()==True].tail(10)"
   ]
  },
  {
   "cell_type": "code",
   "execution_count": 22,
   "metadata": {
    "scrolled": true
   },
   "outputs": [
    {
     "data": {
      "text/plain": [
       "14"
      ]
     },
     "execution_count": 22,
     "metadata": {},
     "output_type": "execute_result"
    }
   ],
   "source": [
    "# Total duplicate rows\n",
    "len(final_comments_df[final_comments_df['comment'].duplicated()==True])"
   ]
  },
  {
   "cell_type": "code",
   "execution_count": 23,
   "metadata": {
    "scrolled": true
   },
   "outputs": [],
   "source": [
    "# Drop the duplicates\n",
    "final_comments_df.drop_duplicates('comment', inplace=True)"
   ]
  },
  {
   "cell_type": "code",
   "execution_count": 24,
   "metadata": {
    "scrolled": true
   },
   "outputs": [
    {
     "name": "stdout",
     "output_type": "stream",
     "text": [
      "comment        0\n",
      "articleName    0\n",
      "dtype: int64\n"
     ]
    }
   ],
   "source": [
    "# Final check\n",
    "print(final_comments_df.isna().sum())"
   ]
  },
  {
   "cell_type": "code",
   "execution_count": null,
   "metadata": {
    "scrolled": true
   },
   "outputs": [],
   "source": [
    "# Overwrite the a .csv file\n",
    "final_comments_df.to_csv('GoodData/final_data_extended.csv', index=False)"
   ]
  },
  {
   "cell_type": "markdown",
   "metadata": {},
   "source": [
    "#### Creating dictionary to map between comments and article names to use partially labelled CSV file"
   ]
  },
  {
   "cell_type": "code",
   "execution_count": 21,
   "metadata": {
    "scrolled": true
   },
   "outputs": [],
   "source": [
    "commentToArticleDict = dict(zip([str(comment) for comment in final_comments_df['comment'].tolist()], final_comments_df['articleName'].tolist()))"
   ]
  },
  {
   "cell_type": "code",
   "execution_count": 22,
   "metadata": {
    "scrolled": true
   },
   "outputs": [],
   "source": [
    "loaded_comments_df = pd.read_csv('./GoodData/final_data_labeledPhase1.csv', names=['comment', 'label'],index_col=None, header=None, skiprows=[0], engine='python', encoding='utf-8')"
   ]
  },
  {
   "cell_type": "code",
   "execution_count": 23,
   "metadata": {
    "scrolled": true
   },
   "outputs": [],
   "source": [
    "loaded_comments_df['articleName'] = [commentToArticleDict.get(comment, None) for comment in loaded_comments_df['comment'].tolist()]"
   ]
  },
  {
   "cell_type": "markdown",
   "metadata": {},
   "source": [
    "#### Checking whether the article names were mapped perfectly with comments"
   ]
  },
  {
   "cell_type": "code",
   "execution_count": 24,
   "metadata": {
    "scrolled": true
   },
   "outputs": [
    {
     "data": {
      "text/html": [
       "<div>\n",
       "<style scoped>\n",
       "    .dataframe tbody tr th:only-of-type {\n",
       "        vertical-align: middle;\n",
       "    }\n",
       "\n",
       "    .dataframe tbody tr th {\n",
       "        vertical-align: top;\n",
       "    }\n",
       "\n",
       "    .dataframe thead th {\n",
       "        text-align: right;\n",
       "    }\n",
       "</style>\n",
       "<table border=\"1\" class=\"dataframe\">\n",
       "  <thead>\n",
       "    <tr style=\"text-align: right;\">\n",
       "      <th></th>\n",
       "      <th>comment</th>\n",
       "      <th>label</th>\n",
       "      <th>articleName</th>\n",
       "    </tr>\n",
       "  </thead>\n",
       "  <tbody>\n",
       "  </tbody>\n",
       "</table>\n",
       "</div>"
      ],
      "text/plain": [
       "Empty DataFrame\n",
       "Columns: [comment, label, articleName]\n",
       "Index: []"
      ]
     },
     "execution_count": 24,
     "metadata": {},
     "output_type": "execute_result"
    }
   ],
   "source": [
    "loaded_comments_df[loaded_comments_df.articleName.isna()]"
   ]
  },
  {
   "cell_type": "code",
   "execution_count": 25,
   "metadata": {},
   "outputs": [
    {
     "data": {
      "text/html": [
       "<div>\n",
       "<style scoped>\n",
       "    .dataframe tbody tr th:only-of-type {\n",
       "        vertical-align: middle;\n",
       "    }\n",
       "\n",
       "    .dataframe tbody tr th {\n",
       "        vertical-align: top;\n",
       "    }\n",
       "\n",
       "    .dataframe thead th {\n",
       "        text-align: right;\n",
       "    }\n",
       "</style>\n",
       "<table border=\"1\" class=\"dataframe\">\n",
       "  <thead>\n",
       "    <tr style=\"text-align: right;\">\n",
       "      <th></th>\n",
       "      <th>comment</th>\n",
       "      <th>label</th>\n",
       "      <th>articleName</th>\n",
       "    </tr>\n",
       "  </thead>\n",
       "  <tbody>\n",
       "    <tr>\n",
       "      <th>0</th>\n",
       "      <td>Thank you for this tutorial , it is simple to ...</td>\n",
       "      <td>0.0</td>\n",
       "      <td>Python List Comprehension Tutorial</td>\n",
       "    </tr>\n",
       "    <tr>\n",
       "      <th>1</th>\n",
       "      <td>Good</td>\n",
       "      <td>0.0</td>\n",
       "      <td>Python List Comprehension Tutorial</td>\n",
       "    </tr>\n",
       "    <tr>\n",
       "      <th>2</th>\n",
       "      <td>In the 'filter' section the given code returns...</td>\n",
       "      <td>0.0</td>\n",
       "      <td>Python List Comprehension Tutorial</td>\n",
       "    </tr>\n",
       "    <tr>\n",
       "      <th>3</th>\n",
       "      <td>Hi there!  Thanks for the tutorial, much appre...</td>\n",
       "      <td>0.0</td>\n",
       "      <td>Python List Comprehension Tutorial</td>\n",
       "    </tr>\n",
       "    <tr>\n",
       "      <th>4</th>\n",
       "      <td>It's lovely!!!!easy to understand.........than...</td>\n",
       "      <td>0.0</td>\n",
       "      <td>Python List Comprehension Tutorial</td>\n",
       "    </tr>\n",
       "  </tbody>\n",
       "</table>\n",
       "</div>"
      ],
      "text/plain": [
       "                                             comment  label  \\\n",
       "0  Thank you for this tutorial , it is simple to ...    0.0   \n",
       "1                                               Good    0.0   \n",
       "2  In the 'filter' section the given code returns...    0.0   \n",
       "3  Hi there!  Thanks for the tutorial, much appre...    0.0   \n",
       "4  It's lovely!!!!easy to understand.........than...    0.0   \n",
       "\n",
       "                          articleName  \n",
       "0  Python List Comprehension Tutorial  \n",
       "1  Python List Comprehension Tutorial  \n",
       "2  Python List Comprehension Tutorial  \n",
       "3  Python List Comprehension Tutorial  \n",
       "4  Python List Comprehension Tutorial  "
      ]
     },
     "execution_count": 25,
     "metadata": {},
     "output_type": "execute_result"
    }
   ],
   "source": [
    "loaded_comments_df.head()"
   ]
  },
  {
   "cell_type": "code",
   "execution_count": 26,
   "metadata": {},
   "outputs": [],
   "source": [
    "loaded_comments_df.to_csv('GoodData/final_data_extended_labeledPhase1.csv', index=False)"
   ]
  },
  {
   "cell_type": "markdown",
   "metadata": {},
   "source": [
    "### Taking a look at the comments grouped by artcle names"
   ]
  },
  {
   "cell_type": "code",
   "execution_count": 44,
   "metadata": {},
   "outputs": [
    {
     "data": {
      "text/html": [
       "<div>\n",
       "<style scoped>\n",
       "    .dataframe tbody tr th:only-of-type {\n",
       "        vertical-align: middle;\n",
       "    }\n",
       "\n",
       "    .dataframe tbody tr th {\n",
       "        vertical-align: top;\n",
       "    }\n",
       "\n",
       "    .dataframe thead th {\n",
       "        text-align: right;\n",
       "    }\n",
       "</style>\n",
       "<table border=\"1\" class=\"dataframe\">\n",
       "  <thead>\n",
       "    <tr style=\"text-align: right;\">\n",
       "      <th></th>\n",
       "      <th>articleName</th>\n",
       "      <th>comment</th>\n",
       "    </tr>\n",
       "  </thead>\n",
       "  <tbody>\n",
       "    <tr>\n",
       "      <th>0</th>\n",
       "      <td>Python Excel Tutorial: The Definitive Guide</td>\n",
       "      <td>79</td>\n",
       "    </tr>\n",
       "    <tr>\n",
       "      <th>1</th>\n",
       "      <td>TensorFlow Tutorial For Beginners</td>\n",
       "      <td>53</td>\n",
       "    </tr>\n",
       "    <tr>\n",
       "      <th>2</th>\n",
       "      <td>Choosing R or Python for Data Analysis? An Inf...</td>\n",
       "      <td>53</td>\n",
       "    </tr>\n",
       "    <tr>\n",
       "      <th>3</th>\n",
       "      <td>Stock Market Predictions with LSTM in Python</td>\n",
       "      <td>49</td>\n",
       "    </tr>\n",
       "    <tr>\n",
       "      <th>4</th>\n",
       "      <td>Python For Finance: Algorithmic Trading</td>\n",
       "      <td>48</td>\n",
       "    </tr>\n",
       "    <tr>\n",
       "      <th>5</th>\n",
       "      <td>AWS EC2 Tutorial For Beginners</td>\n",
       "      <td>45</td>\n",
       "    </tr>\n",
       "    <tr>\n",
       "      <th>6</th>\n",
       "      <td>Tidy Sentiment Analysis in R</td>\n",
       "      <td>41</td>\n",
       "    </tr>\n",
       "    <tr>\n",
       "      <th>7</th>\n",
       "      <td>Web Scraping in R: rvest Tutorial</td>\n",
       "      <td>37</td>\n",
       "    </tr>\n",
       "    <tr>\n",
       "      <th>8</th>\n",
       "      <td>Jupyter Notebook Tutorial: The Definitive Guide</td>\n",
       "      <td>36</td>\n",
       "    </tr>\n",
       "    <tr>\n",
       "      <th>9</th>\n",
       "      <td>Lyric Analysis with NLP &amp; Machine Learning with R</td>\n",
       "      <td>36</td>\n",
       "    </tr>\n",
       "  </tbody>\n",
       "</table>\n",
       "</div>"
      ],
      "text/plain": [
       "                                         articleName  comment\n",
       "0        Python Excel Tutorial: The Definitive Guide       79\n",
       "1                  TensorFlow Tutorial For Beginners       53\n",
       "2  Choosing R or Python for Data Analysis? An Inf...       53\n",
       "3       Stock Market Predictions with LSTM in Python       49\n",
       "4            Python For Finance: Algorithmic Trading       48\n",
       "5                     AWS EC2 Tutorial For Beginners       45\n",
       "6                       Tidy Sentiment Analysis in R       41\n",
       "7                  Web Scraping in R: rvest Tutorial       37\n",
       "8    Jupyter Notebook Tutorial: The Definitive Guide       36\n",
       "9  Lyric Analysis with NLP & Machine Learning with R       36"
      ]
     },
     "execution_count": 44,
     "metadata": {},
     "output_type": "execute_result"
    }
   ],
   "source": [
    "loaded_comments_df.groupby('articleName')['comment'].count()\\\n",
    "        .sort_values(ascending=False)\\\n",
    "        .reset_index()\\\n",
    "        .head(10)"
   ]
  }
 ],
 "metadata": {
  "kernelspec": {
   "display_name": "Python 3",
   "language": "python",
   "name": "python3"
  },
  "language_info": {
   "codemirror_mode": {
    "name": "ipython",
    "version": 3
   },
   "file_extension": ".py",
   "mimetype": "text/x-python",
   "name": "python",
   "nbconvert_exporter": "python",
   "pygments_lexer": "ipython3",
   "version": "3.7.1"
  }
 },
 "nbformat": 4,
 "nbformat_minor": 2
}
