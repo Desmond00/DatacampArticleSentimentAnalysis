{
 "cells": [
  {
   "cell_type": "code",
   "execution_count": 1,
   "metadata": {},
   "outputs": [],
   "source": [
    "import pandas as pd\n",
    "import numpy as np\n",
    "import glob\n",
    "import matplotlib.pyplot as plt\n",
    "%matplotlib inline"
   ]
  },
  {
   "cell_type": "code",
   "execution_count": 2,
   "metadata": {},
   "outputs": [
    {
     "data": {
      "text/html": [
       "<div>\n",
       "<style scoped>\n",
       "    .dataframe tbody tr th:only-of-type {\n",
       "        vertical-align: middle;\n",
       "    }\n",
       "\n",
       "    .dataframe tbody tr th {\n",
       "        vertical-align: top;\n",
       "    }\n",
       "\n",
       "    .dataframe thead th {\n",
       "        text-align: right;\n",
       "    }\n",
       "</style>\n",
       "<table border=\"1\" class=\"dataframe\">\n",
       "  <thead>\n",
       "    <tr style=\"text-align: right;\">\n",
       "      <th></th>\n",
       "      <th>Article Name</th>\n",
       "      <th>Article URL extension</th>\n",
       "      <th>Author</th>\n",
       "      <th>Article Description</th>\n",
       "      <th>upvotes</th>\n",
       "    </tr>\n",
       "  </thead>\n",
       "  <tbody>\n",
       "    <tr>\n",
       "      <th>707</th>\n",
       "      <td>Python String Tutorial</td>\n",
       "      <td>/community/tutorials/python-string-tutorial</td>\n",
       "      <td>Sejal Jaiswal</td>\n",
       "      <td>In this tutorial, you'll learn all about Pytho...</td>\n",
       "      <td>44</td>\n",
       "    </tr>\n",
       "    <tr>\n",
       "      <th>119</th>\n",
       "      <td>Hacking Date Functions in SQLite</td>\n",
       "      <td>/community/tutorials/hacking-date-functions-sq...</td>\n",
       "      <td>Hillary Green-Lerman</td>\n",
       "      <td>In this tutorial, learn how to use date functi...</td>\n",
       "      <td>6</td>\n",
       "    </tr>\n",
       "    <tr>\n",
       "      <th>130</th>\n",
       "      <td>Bootstrap in R</td>\n",
       "      <td>/community/tutorials/bootstrap-r</td>\n",
       "      <td>Łukasz Deryło</td>\n",
       "      <td>In this tutorial, you will learn how to use th...</td>\n",
       "      <td>14</td>\n",
       "    </tr>\n",
       "    <tr>\n",
       "      <th>343</th>\n",
       "      <td>Views (Virtual Tables) in SQL</td>\n",
       "      <td>/community/tutorials/views-in-sql</td>\n",
       "      <td>Avinash Navlani</td>\n",
       "      <td>In this tutorial, you will learn what views ar...</td>\n",
       "      <td>16</td>\n",
       "    </tr>\n",
       "    <tr>\n",
       "      <th>595</th>\n",
       "      <td>Joining DataFrames in Pandas</td>\n",
       "      <td>/community/tutorials/joining-dataframes-pandas</td>\n",
       "      <td>Manish Pathak</td>\n",
       "      <td>In this tutorial, you’ll learn various ways in...</td>\n",
       "      <td>28</td>\n",
       "    </tr>\n",
       "  </tbody>\n",
       "</table>\n",
       "</div>"
      ],
      "text/plain": [
       "                         Article Name  \\\n",
       "707            Python String Tutorial   \n",
       "119  Hacking Date Functions in SQLite   \n",
       "130                    Bootstrap in R   \n",
       "343     Views (Virtual Tables) in SQL   \n",
       "595      Joining DataFrames in Pandas   \n",
       "\n",
       "                                 Article URL extension                Author  \\\n",
       "707        /community/tutorials/python-string-tutorial         Sejal Jaiswal   \n",
       "119  /community/tutorials/hacking-date-functions-sq...  Hillary Green-Lerman   \n",
       "130                   /community/tutorials/bootstrap-r         Łukasz Deryło   \n",
       "343                  /community/tutorials/views-in-sql       Avinash Navlani   \n",
       "595     /community/tutorials/joining-dataframes-pandas         Manish Pathak   \n",
       "\n",
       "                                   Article Description  upvotes  \n",
       "707  In this tutorial, you'll learn all about Pytho...       44  \n",
       "119  In this tutorial, learn how to use date functi...        6  \n",
       "130  In this tutorial, you will learn how to use th...       14  \n",
       "343  In this tutorial, you will learn what views ar...       16  \n",
       "595  In this tutorial, you’ll learn various ways in...       28  "
      ]
     },
     "execution_count": 2,
     "metadata": {},
     "output_type": "execute_result"
    }
   ],
   "source": [
    "# articleData.csv briefs about the articles\n",
    "articles_df = pd.read_csv('GoodData/articleData.csv')\n",
    "articles_df.sample(5)"
   ]
  },
  {
   "cell_type": "code",
   "execution_count": 3,
   "metadata": {},
   "outputs": [
    {
     "data": {
      "text/plain": [
       "(776, 5)"
      ]
     },
     "execution_count": 3,
     "metadata": {},
     "output_type": "execute_result"
    }
   ],
   "source": [
    "# Shape\n",
    "articles_df.shape"
   ]
  },
  {
   "cell_type": "code",
   "execution_count": 4,
   "metadata": {},
   "outputs": [
    {
     "data": {
      "text/html": [
       "<div>\n",
       "<style scoped>\n",
       "    .dataframe tbody tr th:only-of-type {\n",
       "        vertical-align: middle;\n",
       "    }\n",
       "\n",
       "    .dataframe tbody tr th {\n",
       "        vertical-align: top;\n",
       "    }\n",
       "\n",
       "    .dataframe thead th {\n",
       "        text-align: right;\n",
       "    }\n",
       "</style>\n",
       "<table border=\"1\" class=\"dataframe\">\n",
       "  <thead>\n",
       "    <tr style=\"text-align: right;\">\n",
       "      <th></th>\n",
       "      <th>Article Name</th>\n",
       "      <th>Article URL extension</th>\n",
       "      <th>Author</th>\n",
       "      <th>Article Description</th>\n",
       "      <th>upvotes</th>\n",
       "    </tr>\n",
       "  </thead>\n",
       "  <tbody>\n",
       "    <tr>\n",
       "      <th>62</th>\n",
       "      <td>Python For Finance: Algorithmic Trading</td>\n",
       "      <td>/community/tutorials/finance-python-trading</td>\n",
       "      <td>Karlijn Willems</td>\n",
       "      <td>This Python for Finance tutorial introduces yo...</td>\n",
       "      <td>441</td>\n",
       "    </tr>\n",
       "    <tr>\n",
       "      <th>212</th>\n",
       "      <td>Python For Finance: Algorithmic Trading</td>\n",
       "      <td>/community/tutorials/finance-python-trading</td>\n",
       "      <td>Karlijn Willems</td>\n",
       "      <td>This Python for Finance tutorial introduces yo...</td>\n",
       "      <td>441</td>\n",
       "    </tr>\n",
       "    <tr>\n",
       "      <th>362</th>\n",
       "      <td>Python For Finance: Algorithmic Trading</td>\n",
       "      <td>/community/tutorials/finance-python-trading</td>\n",
       "      <td>Karlijn Willems</td>\n",
       "      <td>This Python for Finance tutorial introduces yo...</td>\n",
       "      <td>441</td>\n",
       "    </tr>\n",
       "    <tr>\n",
       "      <th>512</th>\n",
       "      <td>Python For Finance: Algorithmic Trading</td>\n",
       "      <td>/community/tutorials/finance-python-trading</td>\n",
       "      <td>Karlijn Willems</td>\n",
       "      <td>This Python for Finance tutorial introduces yo...</td>\n",
       "      <td>441</td>\n",
       "    </tr>\n",
       "  </tbody>\n",
       "</table>\n",
       "</div>"
      ],
      "text/plain": [
       "                                Article Name  \\\n",
       "62   Python For Finance: Algorithmic Trading   \n",
       "212  Python For Finance: Algorithmic Trading   \n",
       "362  Python For Finance: Algorithmic Trading   \n",
       "512  Python For Finance: Algorithmic Trading   \n",
       "\n",
       "                           Article URL extension           Author  \\\n",
       "62   /community/tutorials/finance-python-trading  Karlijn Willems   \n",
       "212  /community/tutorials/finance-python-trading  Karlijn Willems   \n",
       "362  /community/tutorials/finance-python-trading  Karlijn Willems   \n",
       "512  /community/tutorials/finance-python-trading  Karlijn Willems   \n",
       "\n",
       "                                   Article Description  upvotes  \n",
       "62   This Python for Finance tutorial introduces yo...      441  \n",
       "212  This Python for Finance tutorial introduces yo...      441  \n",
       "362  This Python for Finance tutorial introduces yo...      441  \n",
       "512  This Python for Finance tutorial introduces yo...      441  "
      ]
     },
     "execution_count": 4,
     "metadata": {},
     "output_type": "execute_result"
    }
   ],
   "source": [
    "# Which article has the highest number of upvotes?\n",
    "maximum_upvotes = articles_df.upvotes.max()\n",
    "articles_df[articles_df.upvotes==maximum_upvotes]"
   ]
  },
  {
   "cell_type": "code",
   "execution_count": 5,
   "metadata": {},
   "outputs": [
    {
     "data": {
      "text/plain": [
       "(449, 5)"
      ]
     },
     "execution_count": 5,
     "metadata": {},
     "output_type": "execute_result"
    }
   ],
   "source": [
    "# Are there duplicates?\n",
    "articles_df[articles_df.duplicated()].shape"
   ]
  },
  {
   "cell_type": "code",
   "execution_count": 6,
   "metadata": {},
   "outputs": [
    {
     "data": {
      "text/plain": [
       "(327, 5)"
      ]
     },
     "execution_count": 6,
     "metadata": {},
     "output_type": "execute_result"
    }
   ],
   "source": [
    "# Drop the duplicates\n",
    "articles_df.drop_duplicates(inplace=True)\n",
    "articles_df.shape"
   ]
  },
  {
   "cell_type": "code",
   "execution_count": 7,
   "metadata": {},
   "outputs": [
    {
     "data": {
      "text/html": [
       "<div>\n",
       "<style scoped>\n",
       "    .dataframe tbody tr th:only-of-type {\n",
       "        vertical-align: middle;\n",
       "    }\n",
       "\n",
       "    .dataframe tbody tr th {\n",
       "        vertical-align: top;\n",
       "    }\n",
       "\n",
       "    .dataframe thead th {\n",
       "        text-align: right;\n",
       "    }\n",
       "</style>\n",
       "<table border=\"1\" class=\"dataframe\">\n",
       "  <thead>\n",
       "    <tr style=\"text-align: right;\">\n",
       "      <th></th>\n",
       "      <th>Article Name</th>\n",
       "      <th>Article URL extension</th>\n",
       "      <th>Author</th>\n",
       "      <th>Article Description</th>\n",
       "      <th>upvotes</th>\n",
       "    </tr>\n",
       "  </thead>\n",
       "  <tbody>\n",
       "    <tr>\n",
       "      <th>62</th>\n",
       "      <td>Python For Finance: Algorithmic Trading</td>\n",
       "      <td>/community/tutorials/finance-python-trading</td>\n",
       "      <td>Karlijn Willems</td>\n",
       "      <td>This Python for Finance tutorial introduces yo...</td>\n",
       "      <td>441</td>\n",
       "    </tr>\n",
       "  </tbody>\n",
       "</table>\n",
       "</div>"
      ],
      "text/plain": [
       "                               Article Name  \\\n",
       "62  Python For Finance: Algorithmic Trading   \n",
       "\n",
       "                          Article URL extension           Author  \\\n",
       "62  /community/tutorials/finance-python-trading  Karlijn Willems   \n",
       "\n",
       "                                  Article Description  upvotes  \n",
       "62  This Python for Finance tutorial introduces yo...      441  "
      ]
     },
     "execution_count": 7,
     "metadata": {},
     "output_type": "execute_result"
    }
   ],
   "source": [
    "# Run the maximum upvotes query again\n",
    "articles_df[articles_df.upvotes==maximum_upvotes]"
   ]
  },
  {
   "cell_type": "code",
   "execution_count": 8,
   "metadata": {},
   "outputs": [
    {
     "data": {
      "text/html": [
       "<div>\n",
       "<style scoped>\n",
       "    .dataframe tbody tr th:only-of-type {\n",
       "        vertical-align: middle;\n",
       "    }\n",
       "\n",
       "    .dataframe tbody tr th {\n",
       "        vertical-align: top;\n",
       "    }\n",
       "\n",
       "    .dataframe thead th {\n",
       "        text-align: right;\n",
       "    }\n",
       "</style>\n",
       "<table border=\"1\" class=\"dataframe\">\n",
       "  <thead>\n",
       "    <tr style=\"text-align: right;\">\n",
       "      <th></th>\n",
       "      <th>Article Name</th>\n",
       "      <th>Article URL extension</th>\n",
       "      <th>Author</th>\n",
       "      <th>Article Description</th>\n",
       "      <th>upvotes</th>\n",
       "    </tr>\n",
       "  </thead>\n",
       "  <tbody>\n",
       "    <tr>\n",
       "      <th>770</th>\n",
       "      <td>The RDocumentation Poster</td>\n",
       "      <td>/community/tutorials/package-rankings-task-vie...</td>\n",
       "      <td>Karlijn Willems</td>\n",
       "      <td>Rdocumentation.org is the only R documentation...</td>\n",
       "      <td>2</td>\n",
       "    </tr>\n",
       "  </tbody>\n",
       "</table>\n",
       "</div>"
      ],
      "text/plain": [
       "                  Article Name  \\\n",
       "770  The RDocumentation Poster   \n",
       "\n",
       "                                 Article URL extension           Author  \\\n",
       "770  /community/tutorials/package-rankings-task-vie...  Karlijn Willems   \n",
       "\n",
       "                                   Article Description  upvotes  \n",
       "770  Rdocumentation.org is the only R documentation...        2  "
      ]
     },
     "execution_count": 8,
     "metadata": {},
     "output_type": "execute_result"
    }
   ],
   "source": [
    "# Lowest upvote?\n",
    "lowest_upvotes = articles_df.upvotes.min()\n",
    "articles_df[articles_df.upvotes==lowest_upvotes]"
   ]
  },
  {
   "cell_type": "code",
   "execution_count": 9,
   "metadata": {},
   "outputs": [
    {
     "data": {
      "text/plain": [
       "91"
      ]
     },
     "execution_count": 9,
     "metadata": {},
     "output_type": "execute_result"
    }
   ],
   "source": [
    "# How many unique authors contributed?\n",
    "len(articles_df.Author.unique())"
   ]
  },
  {
   "cell_type": "markdown",
   "metadata": {},
   "source": [
    "We now start with the comments posted on the community articles and tutorial from time to time. `commentsData` is our folder of interest. "
   ]
  },
  {
   "cell_type": "code",
   "execution_count": 10,
   "metadata": {},
   "outputs": [
    {
     "name": "stdout",
     "output_type": "stream",
     "text": [
      "325\n"
     ]
    }
   ],
   "source": [
    "# How many articles/tutorials are there in this folder?\n",
    "total_articles = !ls commentsData/\n",
    "print(len(total_articles))"
   ]
  },
  {
   "cell_type": "markdown",
   "metadata": {},
   "source": [
    "So, we have got the comments scrapped for 325 articles/tutorials of DataCamp Community. Consider the following comment and its reply given: \n",
    "\n",
    "![](images/Image1.png)\n"
   ]
  },
  {
   "cell_type": "markdown",
   "metadata": {},
   "source": [
    "During our scrapping process, we captured only the first comments _not the entire conversation chain including the replies_. Let's now load the first article we have in the folder `commentsData` and glare through its comments (if any). "
   ]
  },
  {
   "cell_type": "code",
   "execution_count": 15,
   "metadata": {},
   "outputs": [
    {
     "data": {
      "text/html": [
       "<div>\n",
       "<style scoped>\n",
       "    .dataframe tbody tr th:only-of-type {\n",
       "        vertical-align: middle;\n",
       "    }\n",
       "\n",
       "    .dataframe tbody tr th {\n",
       "        vertical-align: top;\n",
       "    }\n",
       "\n",
       "    .dataframe thead th {\n",
       "        text-align: right;\n",
       "    }\n",
       "</style>\n",
       "<table border=\"1\" class=\"dataframe\">\n",
       "  <thead>\n",
       "    <tr style=\"text-align: right;\">\n",
       "      <th></th>\n",
       "      <th>commentedBy</th>\n",
       "      <th>commentMessage</th>\n",
       "      <th>upvotes</th>\n",
       "      <th>commentDate</th>\n",
       "    </tr>\n",
       "  </thead>\n",
       "  <tbody>\n",
       "    <tr>\n",
       "      <th>0</th>\n",
       "      <td>Jeremiah James</td>\n",
       "      <td>Thank you for this tutorial, very helpful and ...</td>\n",
       "      <td>3</td>\n",
       "      <td>01/04/2019 08:29 PM</td>\n",
       "    </tr>\n",
       "  </tbody>\n",
       "</table>\n",
       "</div>"
      ],
      "text/plain": [
       "      commentedBy                                     commentMessage  upvotes  \\\n",
       "0  Jeremiah James  Thank you for this tutorial, very helpful and ...        3   \n",
       "\n",
       "           commentDate  \n",
       "0  01/04/2019 08:29 PM  "
      ]
     },
     "execution_count": 15,
     "metadata": {},
     "output_type": "execute_result"
    }
   ],
   "source": [
    "comment_sample_1 = pd.read_csv('commentDataDetailed/10CommandlineUtilitiesinPostgreSQL.csv')\n",
    "comment_sample_1.head()"
   ]
  },
  {
   "cell_type": "markdown",
   "metadata": {},
   "source": [
    "Note that `10CommandlineUtilitiesinPostgreSQL` is the name of the respective article. We are interested in knwoing if a comment is spam or non-spam which is essentially a **binary classification** problem. To approach the solution, we would first need to get all the comments from all the articles in one place. \n",
    "\n",
    "Binary classification is a _supervised learning_ task but we do not have labels for any of the comments. So, we will have to resort to **manual labelling**. We will label some of the comments manually and then we will proceed. But first, let's get the comments in one place (a pandas DataFrame!)."
   ]
  },
  {
   "cell_type": "code",
   "execution_count": 17,
   "metadata": {},
   "outputs": [
    {
     "name": "stdout",
     "output_type": "stream",
     "text": [
      "Total comments accumulated: 2247 and 51 documents do not have any comments\n"
     ]
    }
   ],
   "source": [
    "path = 'commentDataDetailed/'\n",
    "all_files = glob.glob(path + \"*.csv\")\n",
    "\n",
    "temp_list = []\n",
    "count_no_data = 0\n",
    "\n",
    "for filename in all_files:\n",
    "    try:\n",
    "        temp_df = pd.read_csv(filename, index_col=None)\n",
    "        temp_list.append(temp_df)\n",
    "    except:\n",
    "        count_no_data += 1\n",
    "        \n",
    "final_df = pd.concat(temp_list, axis=0, ignore_index=True)\n",
    "print('Total comments accumulated: {} and {} documents do not have any comments'.\n",
    "                          format(len(final_df), count_no_data))"
   ]
  },
  {
   "cell_type": "code",
   "execution_count": 18,
   "metadata": {},
   "outputs": [
    {
     "data": {
      "text/html": [
       "<div>\n",
       "<style scoped>\n",
       "    .dataframe tbody tr th:only-of-type {\n",
       "        vertical-align: middle;\n",
       "    }\n",
       "\n",
       "    .dataframe tbody tr th {\n",
       "        vertical-align: top;\n",
       "    }\n",
       "\n",
       "    .dataframe thead th {\n",
       "        text-align: right;\n",
       "    }\n",
       "</style>\n",
       "<table border=\"1\" class=\"dataframe\">\n",
       "  <thead>\n",
       "    <tr style=\"text-align: right;\">\n",
       "      <th></th>\n",
       "      <th>commentedBy</th>\n",
       "      <th>commentMessage</th>\n",
       "      <th>upvotes</th>\n",
       "      <th>commentDate</th>\n",
       "    </tr>\n",
       "  </thead>\n",
       "  <tbody>\n",
       "    <tr>\n",
       "      <th>776</th>\n",
       "      <td>Samsun Rock</td>\n",
       "      <td>Guys, there mentioned information is so knowle...</td>\n",
       "      <td>1</td>\n",
       "      <td>31/01/2019 01:57 PM</td>\n",
       "    </tr>\n",
       "    <tr>\n",
       "      <th>855</th>\n",
       "      <td>Sam Shum</td>\n",
       "      <td>Very easy to understand.  Well done.  Thank you!</td>\n",
       "      <td>4</td>\n",
       "      <td>03/05/2018 06:38 AM</td>\n",
       "    </tr>\n",
       "    <tr>\n",
       "      <th>83</th>\n",
       "      <td>Mark Steven</td>\n",
       "      <td>Nice one...\\n\\n\\n\\n\\n  \\n\\nRead some of our bl...</td>\n",
       "      <td>1</td>\n",
       "      <td>15/04/2019 03:08 PM</td>\n",
       "    </tr>\n",
       "    <tr>\n",
       "      <th>2141</th>\n",
       "      <td>Alexander Baker</td>\n",
       "      <td>Great tutorial, I've read through tons, and th...</td>\n",
       "      <td>1</td>\n",
       "      <td>03/01/2019 07:41 AM</td>\n",
       "    </tr>\n",
       "    <tr>\n",
       "      <th>2238</th>\n",
       "      <td>bhangad singh</td>\n",
       "      <td>This is a terrific tutorial and obviously a lo...</td>\n",
       "      <td>2</td>\n",
       "      <td>22/01/2019 08:24 AM</td>\n",
       "    </tr>\n",
       "    <tr>\n",
       "      <th>887</th>\n",
       "      <td>Laura Kirchner</td>\n",
       "      <td>Great tutorial, but where is the link to the d...</td>\n",
       "      <td>2</td>\n",
       "      <td>02/10/2018 09:27 PM</td>\n",
       "    </tr>\n",
       "    <tr>\n",
       "      <th>537</th>\n",
       "      <td>Aman Sarviya</td>\n",
       "      <td>Hello, @KarlijnWillems\\n\\nThank you for such a...</td>\n",
       "      <td>1</td>\n",
       "      <td>30/05/2019 11:42 AM</td>\n",
       "    </tr>\n",
       "    <tr>\n",
       "      <th>27</th>\n",
       "      <td>Stark Lord</td>\n",
       "      <td>This is a good tutorial. Meanwhile you can vis...</td>\n",
       "      <td>1</td>\n",
       "      <td>22/05/2019 05:57 PM</td>\n",
       "    </tr>\n",
       "    <tr>\n",
       "      <th>1219</th>\n",
       "      <td>Valentin Koffi</td>\n",
       "      <td>Great !</td>\n",
       "      <td>1</td>\n",
       "      <td>20/02/2018 11:42 PM</td>\n",
       "    </tr>\n",
       "    <tr>\n",
       "      <th>1083</th>\n",
       "      <td>Muqadder Iqbal</td>\n",
       "      <td>There should be a way to bookmark articles to ...</td>\n",
       "      <td>2</td>\n",
       "      <td>17/10/2018 01:39 PM</td>\n",
       "    </tr>\n",
       "  </tbody>\n",
       "</table>\n",
       "</div>"
      ],
      "text/plain": [
       "          commentedBy                                     commentMessage  \\\n",
       "776       Samsun Rock  Guys, there mentioned information is so knowle...   \n",
       "855          Sam Shum   Very easy to understand.  Well done.  Thank you!   \n",
       "83        Mark Steven  Nice one...\\n\\n\\n\\n\\n  \\n\\nRead some of our bl...   \n",
       "2141  Alexander Baker  Great tutorial, I've read through tons, and th...   \n",
       "2238    bhangad singh  This is a terrific tutorial and obviously a lo...   \n",
       "887    Laura Kirchner  Great tutorial, but where is the link to the d...   \n",
       "537      Aman Sarviya  Hello, @KarlijnWillems\\n\\nThank you for such a...   \n",
       "27         Stark Lord  This is a good tutorial. Meanwhile you can vis...   \n",
       "1219   Valentin Koffi                                            Great !   \n",
       "1083   Muqadder Iqbal  There should be a way to bookmark articles to ...   \n",
       "\n",
       "      upvotes          commentDate  \n",
       "776         1  31/01/2019 01:57 PM  \n",
       "855         4  03/05/2018 06:38 AM  \n",
       "83          1  15/04/2019 03:08 PM  \n",
       "2141        1  03/01/2019 07:41 AM  \n",
       "2238        2  22/01/2019 08:24 AM  \n",
       "887         2  02/10/2018 09:27 PM  \n",
       "537         1  30/05/2019 11:42 AM  \n",
       "27          1  22/05/2019 05:57 PM  \n",
       "1219        1  20/02/2018 11:42 PM  \n",
       "1083        2  17/10/2018 01:39 PM  "
      ]
     },
     "execution_count": 18,
     "metadata": {},
     "output_type": "execute_result"
    }
   ],
   "source": [
    "# Review\n",
    "final_df.sample(10)"
   ]
  },
  {
   "cell_type": "code",
   "execution_count": 19,
   "metadata": {},
   "outputs": [
    {
     "data": {
      "text/html": [
       "<div>\n",
       "<style scoped>\n",
       "    .dataframe tbody tr th:only-of-type {\n",
       "        vertical-align: middle;\n",
       "    }\n",
       "\n",
       "    .dataframe tbody tr th {\n",
       "        vertical-align: top;\n",
       "    }\n",
       "\n",
       "    .dataframe thead th {\n",
       "        text-align: right;\n",
       "    }\n",
       "</style>\n",
       "<table border=\"1\" class=\"dataframe\">\n",
       "  <thead>\n",
       "    <tr style=\"text-align: right;\">\n",
       "      <th></th>\n",
       "      <th>comment</th>\n",
       "    </tr>\n",
       "  </thead>\n",
       "  <tbody>\n",
       "    <tr>\n",
       "      <th>1210</th>\n",
       "      <td>Thanks for this information. To get informatio...</td>\n",
       "    </tr>\n",
       "    <tr>\n",
       "      <th>564</th>\n",
       "      <td>I cannot see the images as described in the do...</td>\n",
       "    </tr>\n",
       "    <tr>\n",
       "      <th>2069</th>\n",
       "      <td>How can i make my own haar cascade file? any a...</td>\n",
       "    </tr>\n",
       "    <tr>\n",
       "      <th>2122</th>\n",
       "      <td>very good tutorial</td>\n",
       "    </tr>\n",
       "    <tr>\n",
       "      <th>80</th>\n",
       "      <td>We've   got a team of highly skilled And ...</td>\n",
       "    </tr>\n",
       "  </tbody>\n",
       "</table>\n",
       "</div>"
      ],
      "text/plain": [
       "                                                comment\n",
       "1210  Thanks for this information. To get informatio...\n",
       "564   I cannot see the images as described in the do...\n",
       "2069  How can i make my own haar cascade file? any a...\n",
       "2122                                 very good tutorial\n",
       "80         We've   got a team of highly skilled And ..."
      ]
     },
     "execution_count": 19,
     "metadata": {},
     "output_type": "execute_result"
    }
   ],
   "source": [
    "# Get the comments only\n",
    "final_comments_df = pd.DataFrame()\n",
    "final_comments_df['comment'] = final_df['commentMessage']\n",
    "final_comments_df.sample(5)"
   ]
  },
  {
   "cell_type": "code",
   "execution_count": 20,
   "metadata": {},
   "outputs": [
    {
     "name": "stdout",
     "output_type": "stream",
     "text": [
      "File saved!\n"
     ]
    }
   ],
   "source": [
    "# Let's serialize this DataFrame to a .csv file\n",
    "final_comments_df.to_csv('GoodData/final_data.csv', index=False)\n",
    "print('File saved!')"
   ]
  },
  {
   "cell_type": "markdown",
   "metadata": {},
   "source": [
    "## Basic EDA"
   ]
  },
  {
   "cell_type": "code",
   "execution_count": 21,
   "metadata": {},
   "outputs": [
    {
     "data": {
      "text/plain": [
       "comment    2\n",
       "dtype: int64"
      ]
     },
     "execution_count": 21,
     "metadata": {},
     "output_type": "execute_result"
    }
   ],
   "source": [
    "# Nulls?\n",
    "final_comments_df.isna().sum()"
   ]
  },
  {
   "cell_type": "code",
   "execution_count": 22,
   "metadata": {},
   "outputs": [
    {
     "data": {
      "text/html": [
       "<div>\n",
       "<style scoped>\n",
       "    .dataframe tbody tr th:only-of-type {\n",
       "        vertical-align: middle;\n",
       "    }\n",
       "\n",
       "    .dataframe tbody tr th {\n",
       "        vertical-align: top;\n",
       "    }\n",
       "\n",
       "    .dataframe thead th {\n",
       "        text-align: right;\n",
       "    }\n",
       "</style>\n",
       "<table border=\"1\" class=\"dataframe\">\n",
       "  <thead>\n",
       "    <tr style=\"text-align: right;\">\n",
       "      <th></th>\n",
       "      <th>comment</th>\n",
       "    </tr>\n",
       "  </thead>\n",
       "  <tbody>\n",
       "    <tr>\n",
       "      <th>951</th>\n",
       "      <td>NaN</td>\n",
       "    </tr>\n",
       "    <tr>\n",
       "      <th>1000</th>\n",
       "      <td>NaN</td>\n",
       "    </tr>\n",
       "  </tbody>\n",
       "</table>\n",
       "</div>"
      ],
      "text/plain": [
       "     comment\n",
       "951      NaN\n",
       "1000     NaN"
      ]
     },
     "execution_count": 22,
     "metadata": {},
     "output_type": "execute_result"
    }
   ],
   "source": [
    "# Where?\n",
    "final_comments_df[final_comments_df.comment.isna()]"
   ]
  },
  {
   "cell_type": "code",
   "execution_count": 23,
   "metadata": {},
   "outputs": [
    {
     "name": "stdout",
     "output_type": "stream",
     "text": [
      "Before dropping the nulls shape of the DataFrame: (2247, 1)\n",
      "Before dropping the nulls shape of the DataFrame: (2245, 1)\n"
     ]
    }
   ],
   "source": [
    "# Goodbye\n",
    "print('Before dropping the nulls shape of the DataFrame: {}'.format(final_comments_df.shape))\n",
    "final_comments_df = final_comments_df.dropna().reset_index(drop=True)\n",
    "print('Before dropping the nulls shape of the DataFrame: {}'.format(final_comments_df.shape))"
   ]
  },
  {
   "cell_type": "code",
   "execution_count": 24,
   "metadata": {},
   "outputs": [
    {
     "data": {
      "text/html": [
       "<div>\n",
       "<style scoped>\n",
       "    .dataframe tbody tr th:only-of-type {\n",
       "        vertical-align: middle;\n",
       "    }\n",
       "\n",
       "    .dataframe tbody tr th {\n",
       "        vertical-align: top;\n",
       "    }\n",
       "\n",
       "    .dataframe thead th {\n",
       "        text-align: right;\n",
       "    }\n",
       "</style>\n",
       "<table border=\"1\" class=\"dataframe\">\n",
       "  <thead>\n",
       "    <tr style=\"text-align: right;\">\n",
       "      <th></th>\n",
       "      <th>comment</th>\n",
       "    </tr>\n",
       "  </thead>\n",
       "  <tbody>\n",
       "    <tr>\n",
       "      <th>777</th>\n",
       "      <td>Great tutorial!</td>\n",
       "    </tr>\n",
       "    <tr>\n",
       "      <th>798</th>\n",
       "      <td>Very good article. This is a tutorial video ex...</td>\n",
       "    </tr>\n",
       "    <tr>\n",
       "      <th>985</th>\n",
       "      <td>Thanks</td>\n",
       "    </tr>\n",
       "    <tr>\n",
       "      <th>1013</th>\n",
       "      <td></td>\n",
       "    </tr>\n",
       "    <tr>\n",
       "      <th>1087</th>\n",
       "      <td>Great article!</td>\n",
       "    </tr>\n",
       "    <tr>\n",
       "      <th>1431</th>\n",
       "      <td>good article</td>\n",
       "    </tr>\n",
       "    <tr>\n",
       "      <th>1553</th>\n",
       "      <td>Excellent tutorial!</td>\n",
       "    </tr>\n",
       "    <tr>\n",
       "      <th>1556</th>\n",
       "      <td></td>\n",
       "    </tr>\n",
       "    <tr>\n",
       "      <th>1974</th>\n",
       "      <td>nice</td>\n",
       "    </tr>\n",
       "    <tr>\n",
       "      <th>2023</th>\n",
       "      <td>Great tutorial!</td>\n",
       "    </tr>\n",
       "    <tr>\n",
       "      <th>2047</th>\n",
       "      <td>for i in range(201):\\n\\n        print('EPOCH',...</td>\n",
       "    </tr>\n",
       "    <tr>\n",
       "      <th>2132</th>\n",
       "      <td>Thank you very much!</td>\n",
       "    </tr>\n",
       "    <tr>\n",
       "      <th>2214</th>\n",
       "      <td>Very nice article!</td>\n",
       "    </tr>\n",
       "    <tr>\n",
       "      <th>2235</th>\n",
       "      <td>Part 3 published today: https://www.datacamp.c...</td>\n",
       "    </tr>\n",
       "  </tbody>\n",
       "</table>\n",
       "</div>"
      ],
      "text/plain": [
       "                                                comment\n",
       "777                                     Great tutorial!\n",
       "798   Very good article. This is a tutorial video ex...\n",
       "985                                              Thanks\n",
       "1013                                                   \n",
       "1087                                     Great article!\n",
       "1431                                       good article\n",
       "1553                                Excellent tutorial!\n",
       "1556                                                   \n",
       "1974                                               nice\n",
       "2023                                    Great tutorial!\n",
       "2047  for i in range(201):\\n\\n        print('EPOCH',...\n",
       "2132                               Thank you very much!\n",
       "2214                                 Very nice article!\n",
       "2235  Part 3 published today: https://www.datacamp.c..."
      ]
     },
     "execution_count": 24,
     "metadata": {},
     "output_type": "execute_result"
    }
   ],
   "source": [
    "# Duplicates?\n",
    "final_comments_df[final_comments_df.duplicated()==True].head(20)"
   ]
  },
  {
   "cell_type": "code",
   "execution_count": 25,
   "metadata": {},
   "outputs": [
    {
     "data": {
      "text/html": [
       "<div>\n",
       "<style scoped>\n",
       "    .dataframe tbody tr th:only-of-type {\n",
       "        vertical-align: middle;\n",
       "    }\n",
       "\n",
       "    .dataframe tbody tr th {\n",
       "        vertical-align: top;\n",
       "    }\n",
       "\n",
       "    .dataframe thead th {\n",
       "        text-align: right;\n",
       "    }\n",
       "</style>\n",
       "<table border=\"1\" class=\"dataframe\">\n",
       "  <thead>\n",
       "    <tr style=\"text-align: right;\">\n",
       "      <th></th>\n",
       "      <th>comment</th>\n",
       "    </tr>\n",
       "  </thead>\n",
       "  <tbody>\n",
       "    <tr>\n",
       "      <th>1087</th>\n",
       "      <td>Great article!</td>\n",
       "    </tr>\n",
       "    <tr>\n",
       "      <th>1431</th>\n",
       "      <td>good article</td>\n",
       "    </tr>\n",
       "    <tr>\n",
       "      <th>1553</th>\n",
       "      <td>Excellent tutorial!</td>\n",
       "    </tr>\n",
       "    <tr>\n",
       "      <th>1556</th>\n",
       "      <td></td>\n",
       "    </tr>\n",
       "    <tr>\n",
       "      <th>1974</th>\n",
       "      <td>nice</td>\n",
       "    </tr>\n",
       "    <tr>\n",
       "      <th>2023</th>\n",
       "      <td>Great tutorial!</td>\n",
       "    </tr>\n",
       "    <tr>\n",
       "      <th>2047</th>\n",
       "      <td>for i in range(201):\\n\\n        print('EPOCH',...</td>\n",
       "    </tr>\n",
       "    <tr>\n",
       "      <th>2132</th>\n",
       "      <td>Thank you very much!</td>\n",
       "    </tr>\n",
       "    <tr>\n",
       "      <th>2214</th>\n",
       "      <td>Very nice article!</td>\n",
       "    </tr>\n",
       "    <tr>\n",
       "      <th>2235</th>\n",
       "      <td>Part 3 published today: https://www.datacamp.c...</td>\n",
       "    </tr>\n",
       "  </tbody>\n",
       "</table>\n",
       "</div>"
      ],
      "text/plain": [
       "                                                comment\n",
       "1087                                     Great article!\n",
       "1431                                       good article\n",
       "1553                                Excellent tutorial!\n",
       "1556                                                   \n",
       "1974                                               nice\n",
       "2023                                    Great tutorial!\n",
       "2047  for i in range(201):\\n\\n        print('EPOCH',...\n",
       "2132                               Thank you very much!\n",
       "2214                                 Very nice article!\n",
       "2235  Part 3 published today: https://www.datacamp.c..."
      ]
     },
     "execution_count": 25,
     "metadata": {},
     "output_type": "execute_result"
    }
   ],
   "source": [
    "final_comments_df[final_comments_df.duplicated()==True].tail(10)"
   ]
  },
  {
   "cell_type": "code",
   "execution_count": 26,
   "metadata": {},
   "outputs": [
    {
     "data": {
      "text/plain": [
       "14"
      ]
     },
     "execution_count": 26,
     "metadata": {},
     "output_type": "execute_result"
    }
   ],
   "source": [
    "# Total duplicate rows\n",
    "len(final_comments_df[final_comments_df.duplicated()==True])"
   ]
  },
  {
   "cell_type": "code",
   "execution_count": 27,
   "metadata": {},
   "outputs": [],
   "source": [
    "# Drop the duplicates\n",
    "final_comments_df.drop_duplicates(inplace=True)"
   ]
  },
  {
   "cell_type": "code",
   "execution_count": 28,
   "metadata": {},
   "outputs": [
    {
     "name": "stdout",
     "output_type": "stream",
     "text": [
      "comment    0\n",
      "dtype: int64\n"
     ]
    }
   ],
   "source": [
    "# Final check\n",
    "print(final_comments_df.isna().sum())"
   ]
  },
  {
   "cell_type": "code",
   "execution_count": 29,
   "metadata": {},
   "outputs": [],
   "source": [
    "# Overwrite the a .csv file\n",
    "final_comments_df.to_csv('GoodData/final_data.csv', index=False)"
   ]
  }
 ],
 "metadata": {
  "kernelspec": {
   "display_name": "Python 3",
   "language": "python",
   "name": "python3"
  },
  "language_info": {
   "codemirror_mode": {
    "name": "ipython",
    "version": 3
   },
   "file_extension": ".py",
   "mimetype": "text/x-python",
   "name": "python",
   "nbconvert_exporter": "python",
   "pygments_lexer": "ipython3",
   "version": "3.7.1"
  }
 },
 "nbformat": 4,
 "nbformat_minor": 2
}
